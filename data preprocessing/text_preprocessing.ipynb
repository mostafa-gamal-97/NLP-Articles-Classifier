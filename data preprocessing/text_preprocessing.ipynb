{
 "cells": [
  {
   "cell_type": "markdown",
   "id": "e6e6d155",
   "metadata": {},
   "source": [
    "## Text Preprocessing"
   ]
  },
  {
   "cell_type": "markdown",
   "id": "445c48c3",
   "metadata": {},
   "source": [
    "### Importing libraries and setting path"
   ]
  },
  {
   "cell_type": "code",
   "execution_count": 1,
   "id": "cdf36611",
   "metadata": {},
   "outputs": [
    {
     "name": "stdout",
     "output_type": "stream",
     "text": [
      "Working directory: C:\\Users\\HP\\Desktop\\For CV\\Project 5\\preprocessing\n",
      "New working directory C:\\Users\\HP\\Desktop\\For CV\\Project 5\n",
      "\n",
      "C:\\Users\\HP\\Desktop\\For CV\\Project 5\\.ipynb_checkpoints\\articles_scraper-checkpoint.ipynb\n",
      "C:\\Users\\HP\\Desktop\\For CV\\Project 5\\data cleaning\\clean_df.csv\n",
      "C:\\Users\\HP\\Desktop\\For CV\\Project 5\\data cleaning\\data_cleaning.html\n",
      "C:\\Users\\HP\\Desktop\\For CV\\Project 5\\data cleaning\\data_cleaning.ipynb\n",
      "C:\\Users\\HP\\Desktop\\For CV\\Project 5\\data cleaning\\.ipynb_checkpoints\\data_cleaning-checkpoint.ipynb\n",
      "C:\\Users\\HP\\Desktop\\For CV\\Project 5\\data collection\\articles_scraper.html\n",
      "C:\\Users\\HP\\Desktop\\For CV\\Project 5\\data collection\\articles_scraper.ipynb\n",
      "C:\\Users\\HP\\Desktop\\For CV\\Project 5\\data collection\\arts_2.csv\n",
      "C:\\Users\\HP\\Desktop\\For CV\\Project 5\\data collection\\arts_categories.txt\n",
      "C:\\Users\\HP\\Desktop\\For CV\\Project 5\\data collection\\economy_2.csv\n",
      "C:\\Users\\HP\\Desktop\\For CV\\Project 5\\data collection\\sports_2.csv\n",
      "C:\\Users\\HP\\Desktop\\For CV\\Project 5\\data collection\\.ipynb_checkpoints\\articles_scraper-checkpoint.ipynb\n",
      "C:\\Users\\HP\\Desktop\\For CV\\Project 5\\preprocessing\\final_df_1.csv\n",
      "C:\\Users\\HP\\Desktop\\For CV\\Project 5\\preprocessing\\final_df_2.csv\n",
      "C:\\Users\\HP\\Desktop\\For CV\\Project 5\\preprocessing\\text_preprocessing.html\n",
      "C:\\Users\\HP\\Desktop\\For CV\\Project 5\\preprocessing\\text_preprocessing.ipynb\n",
      "C:\\Users\\HP\\Desktop\\For CV\\Project 5\\preprocessing\\.ipynb_checkpoints\\text_preprocessing-checkpoint.ipynb\n"
     ]
    }
   ],
   "source": [
    "import pandas as pd\n",
    "import os\n",
    "# text preprocessing\n",
    "import string\n",
    "import nltk\n",
    "from nltk.tokenize import word_tokenize\n",
    "from nltk.corpus import stopwords\n",
    "from nltk.stem.porter import PorterStemmer\n",
    "from nltk.stem import WordNetLemmatizer\n",
    "\n",
    "# Increase width to see the article_title clearly\n",
    "pd.set_option('display.max_colwidth', None)\n",
    "\n",
    "# Our project path\n",
    "project_path = r\"C:\\Users\\HP\\Desktop\\For CV\\Project 5\"\n",
    "# check working directory\n",
    "print(\"Working directory:\",os.getcwd())\n",
    "# change working directory and list all files in new directory\n",
    "os.chdir(project_path)\n",
    "print(\"New working directory\", project_path)\n",
    "print()\n",
    "for dirname, _, filenames in os.walk(project_path):\n",
    "    for filename in filenames:\n",
    "        print(os.path.join(dirname, filename))"
   ]
  },
  {
   "cell_type": "markdown",
   "id": "c435da12",
   "metadata": {},
   "source": [
    "### Load our data"
   ]
  },
  {
   "cell_type": "code",
   "execution_count": 2,
   "id": "a878659d",
   "metadata": {},
   "outputs": [
    {
     "name": "stdout",
     "output_type": "stream",
     "text": [
      "Index(['Unnamed: 0', 'article_title', 'category'], dtype='object')\n"
     ]
    }
   ],
   "source": [
    "df = pd.read_csv(r\"C:\\Users\\HP\\Desktop\\For CV\\Project 5\\data cleaning\\clean_df.csv\", encoding='ISO-8859-1')\n",
    "print(df.columns)\n",
    "# drop the Unnamed: 0' column\n",
    "df.drop(columns = 'Unnamed: 0', inplace=True)"
   ]
  },
  {
   "cell_type": "code",
   "execution_count": 3,
   "id": "6dc00b58",
   "metadata": {},
   "outputs": [
    {
     "data": {
      "text/html": [
       "<div>\n",
       "<style scoped>\n",
       "    .dataframe tbody tr th:only-of-type {\n",
       "        vertical-align: middle;\n",
       "    }\n",
       "\n",
       "    .dataframe tbody tr th {\n",
       "        vertical-align: top;\n",
       "    }\n",
       "\n",
       "    .dataframe thead th {\n",
       "        text-align: right;\n",
       "    }\n",
       "</style>\n",
       "<table border=\"1\" class=\"dataframe\">\n",
       "  <thead>\n",
       "    <tr style=\"text-align: right;\">\n",
       "      <th></th>\n",
       "      <th>article_title</th>\n",
       "      <th>category</th>\n",
       "    </tr>\n",
       "  </thead>\n",
       "  <tbody>\n",
       "    <tr>\n",
       "      <th>0</th>\n",
       "      <td>Egypt-based Paymob raises $50 mln in Series B funding round     Egypt-based Paymob, a financial services for merchants platform, raised $50 million in Series B funding, which the platform will use to grow its product range, expanding in the Egyptian market as well as into new markets across the Middle East and Africa region.</td>\n",
       "      <td>economy</td>\n",
       "    </tr>\n",
       "    <tr>\n",
       "      <th>1</th>\n",
       "      <td>Egyptâs inflation speeds up amid war in Ukraine, rising food and energy prices    Egyptâs headline annual inflation rate accelerated to 14.9 percent in April, up from the 12.1 percent recorded in March and 4.4 percent in the corresponding month in 2021, the Central Agency for Public Mobilisation and Statistics (CAPMAS) announced on Tuesday.</td>\n",
       "      <td>economy</td>\n",
       "    </tr>\n",
       "    <tr>\n",
       "      <th>2</th>\n",
       "      <td>EBRD upgrades Egyptâs GDP growth forecasts in FY2021/22 by 0.8%    The European Bank for Reconstruction and Development (EBRD) raised its projections for Egyptâs GDP growth for the current FY2021/22 to 5.7 percent â which ends in June â up from the 4.9 percent it projected in November before slowing down to 5 percent in FY2022/23 â which begins in July â according to the Regional Economic Prospects Report the bank released on Tuesday.</td>\n",
       "      <td>economy</td>\n",
       "    </tr>\n",
       "    <tr>\n",
       "      <th>3</th>\n",
       "      <td>Gold prices down in Egypt amid uncertain economic outlook, expected dollar price hike    Gold prices in the Egyptian market saw a fluctuation on Monday amid the uncertainty cast by an expected rise in the US dollar price and inflation caused by the Russian war in Ukraine, as well as rising food and energy prices.</td>\n",
       "      <td>economy</td>\n",
       "    </tr>\n",
       "    <tr>\n",
       "      <th>4</th>\n",
       "      <td>Egypt, EU ink â¬138 mln development finance deals covering several sectors    Egypt and the European Union (EU) delegation in Egypt signed on Monday a number of development finance agreements worth â¬138 million covering healthcare, administrative reform, the environment, rural and social development, and enhancing governance.</td>\n",
       "      <td>economy</td>\n",
       "    </tr>\n",
       "  </tbody>\n",
       "</table>\n",
       "</div>"
      ],
      "text/plain": [
       "                                                                                                                                                                                                                                                                                                                                                                                                                                                        article_title  \\\n",
       "0                                                                                                                              Egypt-based Paymob raises $50 mln in Series B funding round     Egypt-based Paymob, a financial services for merchants platform, raised $50 million in Series B funding, which the platform will use to grow its product range, expanding in the Egyptian market as well as into new markets across the Middle East and Africa region.   \n",
       "1                                                                                                          Egyptâs inflation speeds up amid war in Ukraine, rising food and energy prices    Egyptâs headline annual inflation rate accelerated to 14.9 percent in April, up from the 12.1 percent recorded in March and 4.4 percent in the corresponding month in 2021, the Central Agency for Public Mobilisation and Statistics (CAPMAS) announced on Tuesday.   \n",
       "2  EBRD upgrades Egyptâs GDP growth forecasts in FY2021/22 by 0.8%    The European Bank for Reconstruction and Development (EBRD) raised its projections for Egyptâs GDP growth for the current FY2021/22 to 5.7 percent â which ends in June â up from the 4.9 percent it projected in November before slowing down to 5 percent in FY2022/23 â which begins in July â according to the Regional Economic Prospects Report the bank released on Tuesday.   \n",
       "3                                                                                                                                          Gold prices down in Egypt amid uncertain economic outlook, expected dollar price hike    Gold prices in the Egyptian market saw a fluctuation on Monday amid the uncertainty cast by an expected rise in the US dollar price and inflation caused by the Russian war in Ukraine, as well as rising food and energy prices.   \n",
       "4                                                                                                                          Egypt, EU ink â¬138 mln development finance deals covering several sectors    Egypt and the European Union (EU) delegation in Egypt signed on Monday a number of development finance agreements worth â¬138 million covering healthcare, administrative reform, the environment, rural and social development, and enhancing governance.   \n",
       "\n",
       "  category  \n",
       "0  economy  \n",
       "1  economy  \n",
       "2  economy  \n",
       "3  economy  \n",
       "4  economy  "
      ]
     },
     "metadata": {},
     "output_type": "display_data"
    },
    {
     "name": "stdout",
     "output_type": "stream",
     "text": [
      "\n"
     ]
    },
    {
     "data": {
      "text/html": [
       "<div>\n",
       "<style scoped>\n",
       "    .dataframe tbody tr th:only-of-type {\n",
       "        vertical-align: middle;\n",
       "    }\n",
       "\n",
       "    .dataframe tbody tr th {\n",
       "        vertical-align: top;\n",
       "    }\n",
       "\n",
       "    .dataframe thead th {\n",
       "        text-align: right;\n",
       "    }\n",
       "</style>\n",
       "<table border=\"1\" class=\"dataframe\">\n",
       "  <thead>\n",
       "    <tr style=\"text-align: right;\">\n",
       "      <th></th>\n",
       "      <th>article_title</th>\n",
       "      <th>category</th>\n",
       "    </tr>\n",
       "  </thead>\n",
       "  <tbody>\n",
       "    <tr>\n",
       "      <th>30594</th>\n",
       "      <td>Chekhov's Three Sisters visit AUC    Anton ChekhovÃ¯Â¿Â½Ã¯Â¿Â½Ã¯Â¿Â½s Three Sisters directed by Frank Bradley will be performed by AUC students in De</td>\n",
       "      <td>art</td>\n",
       "    </tr>\n",
       "    <tr>\n",
       "      <th>30595</th>\n",
       "      <td>Egyptian critic wins Polish cultural award    Professor Hanaa Abdel Fattah recognised by Poland's Ministry of Foreign Affairs</td>\n",
       "      <td>art</td>\n",
       "    </tr>\n",
       "    <tr>\n",
       "      <th>30596</th>\n",
       "      <td>Examining Acting Myths and Misconceptions    Lecture by theatre director and professor Mahmoud El-Lozy at AUC</td>\n",
       "      <td>art</td>\n",
       "    </tr>\n",
       "    <tr>\n",
       "      <th>30597</th>\n",
       "      <td>Julius Caesar with a twist    Al Hayat Theatre Ensemble adds a twist to the Shakespearean play Julius Caesar, winning 3rd place at the El Sawy Culturewheel 8th Theatre Festival.</td>\n",
       "      <td>art</td>\n",
       "    </tr>\n",
       "    <tr>\n",
       "      <th>30598</th>\n",
       "      <td>A Humourless Night    On 12 November a stand-up comedy show with Akram Hosny took place at El Sakia culturewheel, with its theme - the current education system. The material was adapted from the satirical book Awel Mokarer by Haitham Dabbour.</td>\n",
       "      <td>art</td>\n",
       "    </tr>\n",
       "  </tbody>\n",
       "</table>\n",
       "</div>"
      ],
      "text/plain": [
       "                                                                                                                                                                                                                                            article_title  \\\n",
       "30594                                                                                               Chekhov's Three Sisters visit AUC    Anton ChekhovÃ¯Â¿Â½Ã¯Â¿Â½Ã¯Â¿Â½s Three Sisters directed by Frank Bradley will be performed by AUC students in De   \n",
       "30595                                                                                                                       Egyptian critic wins Polish cultural award    Professor Hanaa Abdel Fattah recognised by Poland's Ministry of Foreign Affairs   \n",
       "30596                                                                                                                                       Examining Acting Myths and Misconceptions    Lecture by theatre director and professor Mahmoud El-Lozy at AUC   \n",
       "30597                                                                   Julius Caesar with a twist    Al Hayat Theatre Ensemble adds a twist to the Shakespearean play Julius Caesar, winning 3rd place at the El Sawy Culturewheel 8th Theatre Festival.   \n",
       "30598  A Humourless Night    On 12 November a stand-up comedy show with Akram Hosny took place at El Sakia culturewheel, with its theme - the current education system. The material was adapted from the satirical book Awel Mokarer by Haitham Dabbour.   \n",
       "\n",
       "      category  \n",
       "30594      art  \n",
       "30595      art  \n",
       "30596      art  \n",
       "30597      art  \n",
       "30598      art  "
      ]
     },
     "metadata": {},
     "output_type": "display_data"
    }
   ],
   "source": [
    "display(df.head())\n",
    "print()\n",
    "display(df.tail())"
   ]
  },
  {
   "cell_type": "code",
   "execution_count": 4,
   "id": "1b18f3c1",
   "metadata": {},
   "outputs": [
    {
     "data": {
      "text/plain": [
       "art        10644\n",
       "sports      9984\n",
       "economy     9971\n",
       "Name: category, dtype: int64"
      ]
     },
     "execution_count": 4,
     "metadata": {},
     "output_type": "execute_result"
    }
   ],
   "source": [
    "# value counts\n",
    "df['category'].value_counts()"
   ]
  },
  {
   "cell_type": "markdown",
   "id": "44700cfa",
   "metadata": {},
   "source": [
    "### Train of thoughts"
   ]
  },
  {
   "cell_type": "markdown",
   "id": "3822de1d",
   "metadata": {},
   "source": [
    "We need to get our article_titles in dataframe to a state where it's ready to use by machine learning models.\n",
    "\n",
    "I will start by putting the steps to follow, and then writing **helper functions**(if needed) to perform these steps.\n",
    "\n",
    "Finally, I will put the whole process in one big function called **text_preprocessing** that takes a dataframe and returns a cleaned preprocessed one."
   ]
  },
  {
   "cell_type": "code",
   "execution_count": 5,
   "id": "94d4a8f2",
   "metadata": {},
   "outputs": [],
   "source": [
    "# step1: Remove punctation\n",
    "# step2: .lower()\n",
    "# step3: word tokenization(taking each sentence and splitting it into a list of words)\n",
    "# step4: Stopwords Removal\n",
    "# step5: Stemming \n",
    "# step6: Lemmatization"
   ]
  },
  {
   "cell_type": "markdown",
   "id": "a2e13bea",
   "metadata": {},
   "source": [
    "#### Remove punctuation"
   ]
  },
  {
   "cell_type": "code",
   "execution_count": 6,
   "id": "bcaa06e6",
   "metadata": {},
   "outputs": [],
   "source": [
    "def remove_punctuation(text):\n",
    "    puncts_free = \"\".join([i for i in text if i not in string.punctuation])\n",
    "    return puncts_free"
   ]
  },
  {
   "cell_type": "code",
   "execution_count": 7,
   "id": "50678ac8",
   "metadata": {
    "scrolled": false
   },
   "outputs": [
    {
     "data": {
      "text/html": [
       "<div>\n",
       "<style scoped>\n",
       "    .dataframe tbody tr th:only-of-type {\n",
       "        vertical-align: middle;\n",
       "    }\n",
       "\n",
       "    .dataframe tbody tr th {\n",
       "        vertical-align: top;\n",
       "    }\n",
       "\n",
       "    .dataframe thead th {\n",
       "        text-align: right;\n",
       "    }\n",
       "</style>\n",
       "<table border=\"1\" class=\"dataframe\">\n",
       "  <thead>\n",
       "    <tr style=\"text-align: right;\">\n",
       "      <th></th>\n",
       "      <th>article_title</th>\n",
       "      <th>category</th>\n",
       "      <th>puncts_free</th>\n",
       "    </tr>\n",
       "  </thead>\n",
       "  <tbody>\n",
       "    <tr>\n",
       "      <th>0</th>\n",
       "      <td>Egypt-based Paymob raises $50 mln in Series B funding round     Egypt-based Paymob, a financial services for merchants platform, raised $50 million in Series B funding, which the platform will use to grow its product range, expanding in the Egyptian market as well as into new markets across the Middle East and Africa region.</td>\n",
       "      <td>economy</td>\n",
       "      <td>Egyptbased Paymob raises 50 mln in Series B funding round     Egyptbased Paymob a financial services for merchants platform raised 50 million in Series B funding which the platform will use to grow its product range expanding in the Egyptian market as well as into new markets across the Middle East and Africa region</td>\n",
       "    </tr>\n",
       "  </tbody>\n",
       "</table>\n",
       "</div>"
      ],
      "text/plain": [
       "                                                                                                                                                                                                                                                                                                                            article_title  \\\n",
       "0  Egypt-based Paymob raises $50 mln in Series B funding round     Egypt-based Paymob, a financial services for merchants platform, raised $50 million in Series B funding, which the platform will use to grow its product range, expanding in the Egyptian market as well as into new markets across the Middle East and Africa region.   \n",
       "\n",
       "  category  \\\n",
       "0  economy   \n",
       "\n",
       "                                                                                                                                                                                                                                                                                                                     puncts_free  \n",
       "0  Egyptbased Paymob raises 50 mln in Series B funding round     Egyptbased Paymob a financial services for merchants platform raised 50 million in Series B funding which the platform will use to grow its product range expanding in the Egyptian market as well as into new markets across the Middle East and Africa region  "
      ]
     },
     "execution_count": 7,
     "metadata": {},
     "output_type": "execute_result"
    }
   ],
   "source": [
    "df['puncts_free'] = df['article_title'].apply(lambda x: remove_punctuation(x))\n",
    "df.head(1)"
   ]
  },
  {
   "cell_type": "markdown",
   "id": "cb3df9dd",
   "metadata": {},
   "source": [
    "#### Lowering"
   ]
  },
  {
   "cell_type": "code",
   "execution_count": 8,
   "id": "94416bff",
   "metadata": {
    "scrolled": true
   },
   "outputs": [
    {
     "data": {
      "text/html": [
       "<div>\n",
       "<style scoped>\n",
       "    .dataframe tbody tr th:only-of-type {\n",
       "        vertical-align: middle;\n",
       "    }\n",
       "\n",
       "    .dataframe tbody tr th {\n",
       "        vertical-align: top;\n",
       "    }\n",
       "\n",
       "    .dataframe thead th {\n",
       "        text-align: right;\n",
       "    }\n",
       "</style>\n",
       "<table border=\"1\" class=\"dataframe\">\n",
       "  <thead>\n",
       "    <tr style=\"text-align: right;\">\n",
       "      <th></th>\n",
       "      <th>article_title</th>\n",
       "      <th>category</th>\n",
       "      <th>puncts_free</th>\n",
       "      <th>puncts_free_lower</th>\n",
       "    </tr>\n",
       "  </thead>\n",
       "  <tbody>\n",
       "    <tr>\n",
       "      <th>0</th>\n",
       "      <td>Egypt-based Paymob raises $50 mln in Series B funding round     Egypt-based Paymob, a financial services for merchants platform, raised $50 million in Series B funding, which the platform will use to grow its product range, expanding in the Egyptian market as well as into new markets across the Middle East and Africa region.</td>\n",
       "      <td>economy</td>\n",
       "      <td>Egyptbased Paymob raises 50 mln in Series B funding round     Egyptbased Paymob a financial services for merchants platform raised 50 million in Series B funding which the platform will use to grow its product range expanding in the Egyptian market as well as into new markets across the Middle East and Africa region</td>\n",
       "      <td>egyptbased paymob raises 50 mln in series b funding round     egyptbased paymob a financial services for merchants platform raised 50 million in series b funding which the platform will use to grow its product range expanding in the egyptian market as well as into new markets across the middle east and africa region</td>\n",
       "    </tr>\n",
       "  </tbody>\n",
       "</table>\n",
       "</div>"
      ],
      "text/plain": [
       "                                                                                                                                                                                                                                                                                                                            article_title  \\\n",
       "0  Egypt-based Paymob raises $50 mln in Series B funding round     Egypt-based Paymob, a financial services for merchants platform, raised $50 million in Series B funding, which the platform will use to grow its product range, expanding in the Egyptian market as well as into new markets across the Middle East and Africa region.   \n",
       "\n",
       "  category  \\\n",
       "0  economy   \n",
       "\n",
       "                                                                                                                                                                                                                                                                                                                     puncts_free  \\\n",
       "0  Egyptbased Paymob raises 50 mln in Series B funding round     Egyptbased Paymob a financial services for merchants platform raised 50 million in Series B funding which the platform will use to grow its product range expanding in the Egyptian market as well as into new markets across the Middle East and Africa region   \n",
       "\n",
       "                                                                                                                                                                                                                                                                                                               puncts_free_lower  \n",
       "0  egyptbased paymob raises 50 mln in series b funding round     egyptbased paymob a financial services for merchants platform raised 50 million in series b funding which the platform will use to grow its product range expanding in the egyptian market as well as into new markets across the middle east and africa region  "
      ]
     },
     "execution_count": 8,
     "metadata": {},
     "output_type": "execute_result"
    }
   ],
   "source": [
    "df['puncts_free_lower'] = df['puncts_free'].apply(lambda x: x.lower())\n",
    "df.head(1)"
   ]
  },
  {
   "cell_type": "markdown",
   "id": "f32644a8",
   "metadata": {},
   "source": [
    "#### Word Tokenization"
   ]
  },
  {
   "cell_type": "code",
   "execution_count": 9,
   "id": "1514b0ce",
   "metadata": {},
   "outputs": [],
   "source": [
    "# You can either use spacy or nltk, but nltk is better for our purposes here\n",
    "df['tokenized_words'] = df.apply(lambda x: word_tokenize(x['puncts_free_lower']), axis=1)"
   ]
  },
  {
   "cell_type": "code",
   "execution_count": 10,
   "id": "5025cdf0",
   "metadata": {
    "scrolled": true
   },
   "outputs": [
    {
     "data": {
      "text/html": [
       "<div>\n",
       "<style scoped>\n",
       "    .dataframe tbody tr th:only-of-type {\n",
       "        vertical-align: middle;\n",
       "    }\n",
       "\n",
       "    .dataframe tbody tr th {\n",
       "        vertical-align: top;\n",
       "    }\n",
       "\n",
       "    .dataframe thead th {\n",
       "        text-align: right;\n",
       "    }\n",
       "</style>\n",
       "<table border=\"1\" class=\"dataframe\">\n",
       "  <thead>\n",
       "    <tr style=\"text-align: right;\">\n",
       "      <th></th>\n",
       "      <th>article_title</th>\n",
       "      <th>category</th>\n",
       "      <th>puncts_free</th>\n",
       "      <th>puncts_free_lower</th>\n",
       "      <th>tokenized_words</th>\n",
       "    </tr>\n",
       "  </thead>\n",
       "  <tbody>\n",
       "    <tr>\n",
       "      <th>0</th>\n",
       "      <td>Egypt-based Paymob raises $50 mln in Series B funding round     Egypt-based Paymob, a financial services for merchants platform, raised $50 million in Series B funding, which the platform will use to grow its product range, expanding in the Egyptian market as well as into new markets across the Middle East and Africa region.</td>\n",
       "      <td>economy</td>\n",
       "      <td>Egyptbased Paymob raises 50 mln in Series B funding round     Egyptbased Paymob a financial services for merchants platform raised 50 million in Series B funding which the platform will use to grow its product range expanding in the Egyptian market as well as into new markets across the Middle East and Africa region</td>\n",
       "      <td>egyptbased paymob raises 50 mln in series b funding round     egyptbased paymob a financial services for merchants platform raised 50 million in series b funding which the platform will use to grow its product range expanding in the egyptian market as well as into new markets across the middle east and africa region</td>\n",
       "      <td>[egyptbased, paymob, raises, 50, mln, in, series, b, funding, round, egyptbased, paymob, a, financial, services, for, merchants, platform, raised, 50, million, in, series, b, funding, which, the, platform, will, use, to, grow, its, product, range, expanding, in, the, egyptian, market, as, well, as, into, new, markets, across, the, middle, east, and, africa, region]</td>\n",
       "    </tr>\n",
       "  </tbody>\n",
       "</table>\n",
       "</div>"
      ],
      "text/plain": [
       "                                                                                                                                                                                                                                                                                                                            article_title  \\\n",
       "0  Egypt-based Paymob raises $50 mln in Series B funding round     Egypt-based Paymob, a financial services for merchants platform, raised $50 million in Series B funding, which the platform will use to grow its product range, expanding in the Egyptian market as well as into new markets across the Middle East and Africa region.   \n",
       "\n",
       "  category  \\\n",
       "0  economy   \n",
       "\n",
       "                                                                                                                                                                                                                                                                                                                     puncts_free  \\\n",
       "0  Egyptbased Paymob raises 50 mln in Series B funding round     Egyptbased Paymob a financial services for merchants platform raised 50 million in Series B funding which the platform will use to grow its product range expanding in the Egyptian market as well as into new markets across the Middle East and Africa region   \n",
       "\n",
       "                                                                                                                                                                                                                                                                                                               puncts_free_lower  \\\n",
       "0  egyptbased paymob raises 50 mln in series b funding round     egyptbased paymob a financial services for merchants platform raised 50 million in series b funding which the platform will use to grow its product range expanding in the egyptian market as well as into new markets across the middle east and africa region   \n",
       "\n",
       "                                                                                                                                                                                                                                                                                                                                                                   tokenized_words  \n",
       "0  [egyptbased, paymob, raises, 50, mln, in, series, b, funding, round, egyptbased, paymob, a, financial, services, for, merchants, platform, raised, 50, million, in, series, b, funding, which, the, platform, will, use, to, grow, its, product, range, expanding, in, the, egyptian, market, as, well, as, into, new, markets, across, the, middle, east, and, africa, region]  "
      ]
     },
     "execution_count": 10,
     "metadata": {},
     "output_type": "execute_result"
    }
   ],
   "source": [
    "# testing\n",
    "df.head(1)"
   ]
  },
  {
   "cell_type": "markdown",
   "id": "c35bb35e",
   "metadata": {},
   "source": [
    "We only need **'tokenized_words'**, and **'category'** columns."
   ]
  },
  {
   "cell_type": "code",
   "execution_count": 11,
   "id": "7864c800",
   "metadata": {
    "scrolled": true
   },
   "outputs": [
    {
     "data": {
      "text/html": [
       "<div>\n",
       "<style scoped>\n",
       "    .dataframe tbody tr th:only-of-type {\n",
       "        vertical-align: middle;\n",
       "    }\n",
       "\n",
       "    .dataframe tbody tr th {\n",
       "        vertical-align: top;\n",
       "    }\n",
       "\n",
       "    .dataframe thead th {\n",
       "        text-align: right;\n",
       "    }\n",
       "</style>\n",
       "<table border=\"1\" class=\"dataframe\">\n",
       "  <thead>\n",
       "    <tr style=\"text-align: right;\">\n",
       "      <th></th>\n",
       "      <th>tokenized_words</th>\n",
       "      <th>category</th>\n",
       "    </tr>\n",
       "  </thead>\n",
       "  <tbody>\n",
       "    <tr>\n",
       "      <th>0</th>\n",
       "      <td>[egyptbased, paymob, raises, 50, mln, in, series, b, funding, round, egyptbased, paymob, a, financial, services, for, merchants, platform, raised, 50, million, in, series, b, funding, which, the, platform, will, use, to, grow, its, product, range, expanding, in, the, egyptian, market, as, well, as, into, new, markets, across, the, middle, east, and, africa, region]</td>\n",
       "      <td>economy</td>\n",
       "    </tr>\n",
       "    <tr>\n",
       "      <th>1</th>\n",
       "      <td>[egyptâs, inflation, speeds, up, amid, war, in, ukraine, rising, food, and, energy, prices, egyptâs, headline, annual, inflation, rate, accelerated, to, 149, percent, in, april, up, from, the, 121, percent, recorded, in, march, and, 44, percent, in, the, corresponding, month, in, 2021, the, central, agency, for, public, mobilisation, and, statistics, capmas, announced, on, tuesday]</td>\n",
       "      <td>economy</td>\n",
       "    </tr>\n",
       "    <tr>\n",
       "      <th>2</th>\n",
       "      <td>[ebrd, upgrades, egyptâs, gdp, growth, forecasts, in, fy202122, by, 08, the, european, bank, for, reconstruction, and, development, ebrd, raised, its, projections, for, egyptâs, gdp, growth, for, the, current, fy202122, to, 57, percent, â, which, ends, in, june, â, up, from, the, 49, percent, it, projected, in, november, before, slowing, down, to, 5, percent, in, fy202223, â, which, begins, in, july, â, according, to, the, regional, economic, prospects, report, the, bank, released, on, tuesday]</td>\n",
       "      <td>economy</td>\n",
       "    </tr>\n",
       "    <tr>\n",
       "      <th>3</th>\n",
       "      <td>[gold, prices, down, in, egypt, amid, uncertain, economic, outlook, expected, dollar, price, hike, gold, prices, in, the, egyptian, market, saw, a, fluctuation, on, monday, amid, the, uncertainty, cast, by, an, expected, rise, in, the, us, dollar, price, and, inflation, caused, by, the, russian, war, in, ukraine, as, well, as, rising, food, and, energy, prices]</td>\n",
       "      <td>economy</td>\n",
       "    </tr>\n",
       "    <tr>\n",
       "      <th>4</th>\n",
       "      <td>[egypt, eu, ink, â¬138, mln, development, finance, deals, covering, several, sectors, egypt, and, the, european, union, eu, delegation, in, egypt, signed, on, monday, a, number, of, development, finance, agreements, worth, â¬138, million, covering, healthcare, administrative, reform, the, environment, rural, and, social, development, and, enhancing, governance]</td>\n",
       "      <td>economy</td>\n",
       "    </tr>\n",
       "  </tbody>\n",
       "</table>\n",
       "</div>"
      ],
      "text/plain": [
       "                                                                                                                                                                                                                                                                                                                                                                                                                                                                                                                   tokenized_words  \\\n",
       "0                                                                                                                                                  [egyptbased, paymob, raises, 50, mln, in, series, b, funding, round, egyptbased, paymob, a, financial, services, for, merchants, platform, raised, 50, million, in, series, b, funding, which, the, platform, will, use, to, grow, its, product, range, expanding, in, the, egyptian, market, as, well, as, into, new, markets, across, the, middle, east, and, africa, region]   \n",
       "1                                                                                                                             [egyptâs, inflation, speeds, up, amid, war, in, ukraine, rising, food, and, energy, prices, egyptâs, headline, annual, inflation, rate, accelerated, to, 149, percent, in, april, up, from, the, 121, percent, recorded, in, march, and, 44, percent, in, the, corresponding, month, in, 2021, the, central, agency, for, public, mobilisation, and, statistics, capmas, announced, on, tuesday]   \n",
       "2  [ebrd, upgrades, egyptâs, gdp, growth, forecasts, in, fy202122, by, 08, the, european, bank, for, reconstruction, and, development, ebrd, raised, its, projections, for, egyptâs, gdp, growth, for, the, current, fy202122, to, 57, percent, â, which, ends, in, june, â, up, from, the, 49, percent, it, projected, in, november, before, slowing, down, to, 5, percent, in, fy202223, â, which, begins, in, july, â, according, to, the, regional, economic, prospects, report, the, bank, released, on, tuesday]   \n",
       "3                                                                                                                                                      [gold, prices, down, in, egypt, amid, uncertain, economic, outlook, expected, dollar, price, hike, gold, prices, in, the, egyptian, market, saw, a, fluctuation, on, monday, amid, the, uncertainty, cast, by, an, expected, rise, in, the, us, dollar, price, and, inflation, caused, by, the, russian, war, in, ukraine, as, well, as, rising, food, and, energy, prices]   \n",
       "4                                                                                                                                                    [egypt, eu, ink, â¬138, mln, development, finance, deals, covering, several, sectors, egypt, and, the, european, union, eu, delegation, in, egypt, signed, on, monday, a, number, of, development, finance, agreements, worth, â¬138, million, covering, healthcare, administrative, reform, the, environment, rural, and, social, development, and, enhancing, governance]   \n",
       "\n",
       "  category  \n",
       "0  economy  \n",
       "1  economy  \n",
       "2  economy  \n",
       "3  economy  \n",
       "4  economy  "
      ]
     },
     "execution_count": 11,
     "metadata": {},
     "output_type": "execute_result"
    }
   ],
   "source": [
    "df = df[['tokenized_words', 'category']]\n",
    "df.head()"
   ]
  },
  {
   "cell_type": "markdown",
   "id": "c3d6cef3",
   "metadata": {},
   "source": [
    "#### Stopwords Removal"
   ]
  },
  {
   "cell_type": "code",
   "execution_count": 12,
   "id": "8a11a562",
   "metadata": {},
   "outputs": [
    {
     "name": "stdout",
     "output_type": "stream",
     "text": [
      "['i', 'me', 'my', 'myself', 'we', 'our', 'ours', 'ourselves', 'you', \"you're\", \"you've\", \"you'll\", \"you'd\", 'your', 'yours', 'yourself', 'yourselves', 'he', 'him', 'his', 'himself', 'she', \"she's\", 'her', 'hers', 'herself', 'it', \"it's\", 'its', 'itself', 'they', 'them', 'their', 'theirs', 'themselves', 'what', 'which', 'who', 'whom', 'this', 'that', \"that'll\", 'these', 'those', 'am', 'is', 'are', 'was', 'were', 'be', 'been', 'being', 'have', 'has', 'had', 'having', 'do', 'does', 'did', 'doing', 'a', 'an', 'the', 'and', 'but', 'if', 'or', 'because', 'as', 'until', 'while', 'of', 'at', 'by', 'for', 'with', 'about', 'against', 'between', 'into', 'through', 'during', 'before', 'after', 'above', 'below', 'to', 'from', 'up', 'down', 'in', 'out', 'on', 'off', 'over', 'under', 'again', 'further', 'then', 'once', 'here', 'there', 'when', 'where', 'why', 'how', 'all', 'any', 'both', 'each', 'few', 'more', 'most', 'other', 'some', 'such', 'no', 'nor', 'not', 'only', 'own', 'same', 'so', 'than', 'too', 'very', 's', 't', 'can', 'will', 'just', 'don', \"don't\", 'should', \"should've\", 'now', 'd', 'll', 'm', 'o', 're', 've', 'y', 'ain', 'aren', \"aren't\", 'couldn', \"couldn't\", 'didn', \"didn't\", 'doesn', \"doesn't\", 'hadn', \"hadn't\", 'hasn', \"hasn't\", 'haven', \"haven't\", 'isn', \"isn't\", 'ma', 'mightn', \"mightn't\", 'mustn', \"mustn't\", 'needn', \"needn't\", 'shan', \"shan't\", 'shouldn', \"shouldn't\", 'wasn', \"wasn't\", 'weren', \"weren't\", 'won', \"won't\", 'wouldn', \"wouldn't\"]  |  179\n"
     ]
    }
   ],
   "source": [
    "stopwords = stopwords.words('english')\n",
    "print(stopwords, \" | \",len(stopwords))"
   ]
  },
  {
   "cell_type": "code",
   "execution_count": 13,
   "id": "8d508d16",
   "metadata": {},
   "outputs": [],
   "source": [
    "# writing our function\n",
    "def remove_stopwords(text_list):\n",
    "    stop_words_free = [i for i in text_list if i not in stopwords]\n",
    "    return stop_words_free    "
   ]
  },
  {
   "cell_type": "code",
   "execution_count": 14,
   "id": "98a6100a",
   "metadata": {},
   "outputs": [
    {
     "data": {
      "text/html": [
       "<div>\n",
       "<style scoped>\n",
       "    .dataframe tbody tr th:only-of-type {\n",
       "        vertical-align: middle;\n",
       "    }\n",
       "\n",
       "    .dataframe tbody tr th {\n",
       "        vertical-align: top;\n",
       "    }\n",
       "\n",
       "    .dataframe thead th {\n",
       "        text-align: right;\n",
       "    }\n",
       "</style>\n",
       "<table border=\"1\" class=\"dataframe\">\n",
       "  <thead>\n",
       "    <tr style=\"text-align: right;\">\n",
       "      <th></th>\n",
       "      <th>tokenized_words</th>\n",
       "      <th>category</th>\n",
       "      <th>sw_free</th>\n",
       "    </tr>\n",
       "  </thead>\n",
       "  <tbody>\n",
       "    <tr>\n",
       "      <th>0</th>\n",
       "      <td>[egyptbased, paymob, raises, 50, mln, in, series, b, funding, round, egyptbased, paymob, a, financial, services, for, merchants, platform, raised, 50, million, in, series, b, funding, which, the, platform, will, use, to, grow, its, product, range, expanding, in, the, egyptian, market, as, well, as, into, new, markets, across, the, middle, east, and, africa, region]</td>\n",
       "      <td>economy</td>\n",
       "      <td>[egyptbased, paymob, raises, 50, mln, series, b, funding, round, egyptbased, paymob, financial, services, merchants, platform, raised, 50, million, series, b, funding, platform, use, grow, product, range, expanding, egyptian, market, well, new, markets, across, middle, east, africa, region]</td>\n",
       "    </tr>\n",
       "  </tbody>\n",
       "</table>\n",
       "</div>"
      ],
      "text/plain": [
       "                                                                                                                                                                                                                                                                                                                                                                   tokenized_words  \\\n",
       "0  [egyptbased, paymob, raises, 50, mln, in, series, b, funding, round, egyptbased, paymob, a, financial, services, for, merchants, platform, raised, 50, million, in, series, b, funding, which, the, platform, will, use, to, grow, its, product, range, expanding, in, the, egyptian, market, as, well, as, into, new, markets, across, the, middle, east, and, africa, region]   \n",
       "\n",
       "  category  \\\n",
       "0  economy   \n",
       "\n",
       "                                                                                                                                                                                                                                                                                               sw_free  \n",
       "0  [egyptbased, paymob, raises, 50, mln, series, b, funding, round, egyptbased, paymob, financial, services, merchants, platform, raised, 50, million, series, b, funding, platform, use, grow, product, range, expanding, egyptian, market, well, new, markets, across, middle, east, africa, region]  "
      ]
     },
     "execution_count": 14,
     "metadata": {},
     "output_type": "execute_result"
    }
   ],
   "source": [
    "# testing\n",
    "df['sw_free'] = df['tokenized_words'].apply(lambda x: remove_stopwords(x))\n",
    "df.head(1)"
   ]
  },
  {
   "cell_type": "markdown",
   "id": "0f09c8f7",
   "metadata": {},
   "source": [
    "#### Stemming"
   ]
  },
  {
   "cell_type": "code",
   "execution_count": 15,
   "id": "a3e359da",
   "metadata": {},
   "outputs": [],
   "source": [
    "# defining stemming object\n",
    "pstemmer = PorterStemmer()"
   ]
  },
  {
   "cell_type": "code",
   "execution_count": 16,
   "id": "d534cec5",
   "metadata": {},
   "outputs": [],
   "source": [
    "def stemming(text):\n",
    "    stemmed_text = [pstemmer.stem(word) for word in text]\n",
    "    return stemmed_text"
   ]
  },
  {
   "cell_type": "code",
   "execution_count": 17,
   "id": "d6d439d3",
   "metadata": {},
   "outputs": [
    {
     "data": {
      "text/html": [
       "<div>\n",
       "<style scoped>\n",
       "    .dataframe tbody tr th:only-of-type {\n",
       "        vertical-align: middle;\n",
       "    }\n",
       "\n",
       "    .dataframe tbody tr th {\n",
       "        vertical-align: top;\n",
       "    }\n",
       "\n",
       "    .dataframe thead th {\n",
       "        text-align: right;\n",
       "    }\n",
       "</style>\n",
       "<table border=\"1\" class=\"dataframe\">\n",
       "  <thead>\n",
       "    <tr style=\"text-align: right;\">\n",
       "      <th></th>\n",
       "      <th>tokenized_words</th>\n",
       "      <th>category</th>\n",
       "      <th>sw_free</th>\n",
       "      <th>stemmed_title</th>\n",
       "    </tr>\n",
       "  </thead>\n",
       "  <tbody>\n",
       "    <tr>\n",
       "      <th>0</th>\n",
       "      <td>[egyptbased, paymob, raises, 50, mln, in, series, b, funding, round, egyptbased, paymob, a, financial, services, for, merchants, platform, raised, 50, million, in, series, b, funding, which, the, platform, will, use, to, grow, its, product, range, expanding, in, the, egyptian, market, as, well, as, into, new, markets, across, the, middle, east, and, africa, region]</td>\n",
       "      <td>economy</td>\n",
       "      <td>[egyptbased, paymob, raises, 50, mln, series, b, funding, round, egyptbased, paymob, financial, services, merchants, platform, raised, 50, million, series, b, funding, platform, use, grow, product, range, expanding, egyptian, market, well, new, markets, across, middle, east, africa, region]</td>\n",
       "      <td>[egyptbas, paymob, rais, 50, mln, seri, b, fund, round, egyptbas, paymob, financi, servic, merchant, platform, rais, 50, million, seri, b, fund, platform, use, grow, product, rang, expand, egyptian, market, well, new, market, across, middl, east, africa, region]</td>\n",
       "    </tr>\n",
       "  </tbody>\n",
       "</table>\n",
       "</div>"
      ],
      "text/plain": [
       "                                                                                                                                                                                                                                                                                                                                                                   tokenized_words  \\\n",
       "0  [egyptbased, paymob, raises, 50, mln, in, series, b, funding, round, egyptbased, paymob, a, financial, services, for, merchants, platform, raised, 50, million, in, series, b, funding, which, the, platform, will, use, to, grow, its, product, range, expanding, in, the, egyptian, market, as, well, as, into, new, markets, across, the, middle, east, and, africa, region]   \n",
       "\n",
       "  category  \\\n",
       "0  economy   \n",
       "\n",
       "                                                                                                                                                                                                                                                                                               sw_free  \\\n",
       "0  [egyptbased, paymob, raises, 50, mln, series, b, funding, round, egyptbased, paymob, financial, services, merchants, platform, raised, 50, million, series, b, funding, platform, use, grow, product, range, expanding, egyptian, market, well, new, markets, across, middle, east, africa, region]   \n",
       "\n",
       "                                                                                                                                                                                                                                                            stemmed_title  \n",
       "0  [egyptbas, paymob, rais, 50, mln, seri, b, fund, round, egyptbas, paymob, financi, servic, merchant, platform, rais, 50, million, seri, b, fund, platform, use, grow, product, rang, expand, egyptian, market, well, new, market, across, middl, east, africa, region]  "
      ]
     },
     "execution_count": 17,
     "metadata": {},
     "output_type": "execute_result"
    }
   ],
   "source": [
    "# testing our function\n",
    "df['stemmed_title'] = df['sw_free'].apply(lambda x: stemming(x))\n",
    "df.head(1)"
   ]
  },
  {
   "cell_type": "markdown",
   "id": "65303def",
   "metadata": {},
   "source": [
    "#### Lemmatization"
   ]
  },
  {
   "cell_type": "markdown",
   "id": "b21f797d",
   "metadata": {},
   "source": [
    "Before starting the lemmatization process, open your cmd and:\n",
    "\n",
    "* type python\n",
    "* import nltk\n",
    "* nltk.download('omw-1.4')\n",
    "\n",
    "for more info:\n",
    "[stackoverflow wordnet](https://stackoverflow.com/questions/48152637/why-is-nltk-download-unable-to-download-wordnet-or-any-other-data)\n",
    "\n",
    "This will download the WordNet(nltk corpus reader).\n",
    "\n",
    "If not downloaded, it will throw an error when you try to use the **WordNetLemmatizer()**"
   ]
  },
  {
   "cell_type": "code",
   "execution_count": 18,
   "id": "c78df386",
   "metadata": {},
   "outputs": [],
   "source": [
    "# defining lemmatization object\n",
    "wnet_lemmatizer = WordNetLemmatizer()"
   ]
  },
  {
   "cell_type": "code",
   "execution_count": 19,
   "id": "5ca3cb68",
   "metadata": {},
   "outputs": [],
   "source": [
    "def lemmatization(text):\n",
    "    lemmatized_text = [wnet_lemmatizer.lemmatize(word) for word in text]\n",
    "    return lemmatized_text"
   ]
  },
  {
   "cell_type": "code",
   "execution_count": 20,
   "id": "85768ccb",
   "metadata": {},
   "outputs": [
    {
     "data": {
      "text/html": [
       "<div>\n",
       "<style scoped>\n",
       "    .dataframe tbody tr th:only-of-type {\n",
       "        vertical-align: middle;\n",
       "    }\n",
       "\n",
       "    .dataframe tbody tr th {\n",
       "        vertical-align: top;\n",
       "    }\n",
       "\n",
       "    .dataframe thead th {\n",
       "        text-align: right;\n",
       "    }\n",
       "</style>\n",
       "<table border=\"1\" class=\"dataframe\">\n",
       "  <thead>\n",
       "    <tr style=\"text-align: right;\">\n",
       "      <th></th>\n",
       "      <th>tokenized_words</th>\n",
       "      <th>category</th>\n",
       "      <th>sw_free</th>\n",
       "      <th>stemmed_title</th>\n",
       "      <th>lemmatized_title</th>\n",
       "    </tr>\n",
       "  </thead>\n",
       "  <tbody>\n",
       "    <tr>\n",
       "      <th>0</th>\n",
       "      <td>[egyptbased, paymob, raises, 50, mln, in, series, b, funding, round, egyptbased, paymob, a, financial, services, for, merchants, platform, raised, 50, million, in, series, b, funding, which, the, platform, will, use, to, grow, its, product, range, expanding, in, the, egyptian, market, as, well, as, into, new, markets, across, the, middle, east, and, africa, region]</td>\n",
       "      <td>economy</td>\n",
       "      <td>[egyptbased, paymob, raises, 50, mln, series, b, funding, round, egyptbased, paymob, financial, services, merchants, platform, raised, 50, million, series, b, funding, platform, use, grow, product, range, expanding, egyptian, market, well, new, markets, across, middle, east, africa, region]</td>\n",
       "      <td>[egyptbas, paymob, rais, 50, mln, seri, b, fund, round, egyptbas, paymob, financi, servic, merchant, platform, rais, 50, million, seri, b, fund, platform, use, grow, product, rang, expand, egyptian, market, well, new, market, across, middl, east, africa, region]</td>\n",
       "      <td>[egyptbas, paymob, rais, 50, mln, seri, b, fund, round, egyptbas, paymob, financi, servic, merchant, platform, rais, 50, million, seri, b, fund, platform, use, grow, product, rang, expand, egyptian, market, well, new, market, across, middl, east, africa, region]</td>\n",
       "    </tr>\n",
       "  </tbody>\n",
       "</table>\n",
       "</div>"
      ],
      "text/plain": [
       "                                                                                                                                                                                                                                                                                                                                                                   tokenized_words  \\\n",
       "0  [egyptbased, paymob, raises, 50, mln, in, series, b, funding, round, egyptbased, paymob, a, financial, services, for, merchants, platform, raised, 50, million, in, series, b, funding, which, the, platform, will, use, to, grow, its, product, range, expanding, in, the, egyptian, market, as, well, as, into, new, markets, across, the, middle, east, and, africa, region]   \n",
       "\n",
       "  category  \\\n",
       "0  economy   \n",
       "\n",
       "                                                                                                                                                                                                                                                                                               sw_free  \\\n",
       "0  [egyptbased, paymob, raises, 50, mln, series, b, funding, round, egyptbased, paymob, financial, services, merchants, platform, raised, 50, million, series, b, funding, platform, use, grow, product, range, expanding, egyptian, market, well, new, markets, across, middle, east, africa, region]   \n",
       "\n",
       "                                                                                                                                                                                                                                                            stemmed_title  \\\n",
       "0  [egyptbas, paymob, rais, 50, mln, seri, b, fund, round, egyptbas, paymob, financi, servic, merchant, platform, rais, 50, million, seri, b, fund, platform, use, grow, product, rang, expand, egyptian, market, well, new, market, across, middl, east, africa, region]   \n",
       "\n",
       "                                                                                                                                                                                                                                                         lemmatized_title  \n",
       "0  [egyptbas, paymob, rais, 50, mln, seri, b, fund, round, egyptbas, paymob, financi, servic, merchant, platform, rais, 50, million, seri, b, fund, platform, use, grow, product, rang, expand, egyptian, market, well, new, market, across, middl, east, africa, region]  "
      ]
     },
     "execution_count": 20,
     "metadata": {},
     "output_type": "execute_result"
    }
   ],
   "source": [
    "# testing our function\n",
    "df['lemmatized_title'] = df['stemmed_title'].apply(lambda x: lemmatization(x))\n",
    "df.head(1)"
   ]
  },
  {
   "cell_type": "code",
   "execution_count": 21,
   "id": "3a6f1f0c",
   "metadata": {
    "scrolled": false
   },
   "outputs": [
    {
     "data": {
      "text/html": [
       "<div>\n",
       "<style scoped>\n",
       "    .dataframe tbody tr th:only-of-type {\n",
       "        vertical-align: middle;\n",
       "    }\n",
       "\n",
       "    .dataframe tbody tr th {\n",
       "        vertical-align: top;\n",
       "    }\n",
       "\n",
       "    .dataframe thead th {\n",
       "        text-align: right;\n",
       "    }\n",
       "</style>\n",
       "<table border=\"1\" class=\"dataframe\">\n",
       "  <thead>\n",
       "    <tr style=\"text-align: right;\">\n",
       "      <th></th>\n",
       "      <th>stemmed_title</th>\n",
       "      <th>lemmatized_title</th>\n",
       "      <th>category</th>\n",
       "    </tr>\n",
       "  </thead>\n",
       "  <tbody>\n",
       "    <tr>\n",
       "      <th>0</th>\n",
       "      <td>[egyptbas, paymob, rais, 50, mln, seri, b, fund, round, egyptbas, paymob, financi, servic, merchant, platform, rais, 50, million, seri, b, fund, platform, use, grow, product, rang, expand, egyptian, market, well, new, market, across, middl, east, africa, region]</td>\n",
       "      <td>[egyptbas, paymob, rais, 50, mln, seri, b, fund, round, egyptbas, paymob, financi, servic, merchant, platform, rais, 50, million, seri, b, fund, platform, use, grow, product, rang, expand, egyptian, market, well, new, market, across, middl, east, africa, region]</td>\n",
       "      <td>economy</td>\n",
       "    </tr>\n",
       "    <tr>\n",
       "      <th>1</th>\n",
       "      <td>[egyptâ, inflat, speed, amid, war, ukrain, rise, food, energi, price, egyptâ, headlin, annual, inflat, rate, acceler, 149, percent, april, 121, percent, record, march, 44, percent, correspond, month, 2021, central, agenc, public, mobilis, statist, capma, announc, tuesday]</td>\n",
       "      <td>[egyptâ, inflat, speed, amid, war, ukrain, rise, food, energi, price, egyptâ, headlin, annual, inflat, rate, acceler, 149, percent, april, 121, percent, record, march, 44, percent, correspond, month, 2021, central, agenc, public, mobilis, statist, capma, announc, tuesday]</td>\n",
       "      <td>economy</td>\n",
       "    </tr>\n",
       "    <tr>\n",
       "      <th>2</th>\n",
       "      <td>[ebrd, upgrad, egyptâ, gdp, growth, forecast, fy202122, 08, european, bank, reconstruct, develop, ebrd, rais, project, egyptâ, gdp, growth, current, fy202122, 57, percent, â, end, june, â, 49, percent, project, novemb, slow, 5, percent, fy202223, â, begin, juli, â, accord, region, econom, prospect, report, bank, releas, tuesday]</td>\n",
       "      <td>[ebrd, upgrad, egyptâ, gdp, growth, forecast, fy202122, 08, european, bank, reconstruct, develop, ebrd, rais, project, egyptâ, gdp, growth, current, fy202122, 57, percent, â, end, june, â, 49, percent, project, novemb, slow, 5, percent, fy202223, â, begin, juli, â, accord, region, econom, prospect, report, bank, releas, tuesday]</td>\n",
       "      <td>economy</td>\n",
       "    </tr>\n",
       "    <tr>\n",
       "      <th>3</th>\n",
       "      <td>[gold, price, egypt, amid, uncertain, econom, outlook, expect, dollar, price, hike, gold, price, egyptian, market, saw, fluctuat, monday, amid, uncertainti, cast, expect, rise, us, dollar, price, inflat, caus, russian, war, ukrain, well, rise, food, energi, price]</td>\n",
       "      <td>[gold, price, egypt, amid, uncertain, econom, outlook, expect, dollar, price, hike, gold, price, egyptian, market, saw, fluctuat, monday, amid, uncertainti, cast, expect, rise, u, dollar, price, inflat, caus, russian, war, ukrain, well, rise, food, energi, price]</td>\n",
       "      <td>economy</td>\n",
       "    </tr>\n",
       "    <tr>\n",
       "      <th>4</th>\n",
       "      <td>[egypt, eu, ink, â¬138, mln, develop, financ, deal, cover, sever, sector, egypt, european, union, eu, deleg, egypt, sign, monday, number, develop, financ, agreement, worth, â¬138, million, cover, healthcar, administr, reform, environ, rural, social, develop, enhanc, govern]</td>\n",
       "      <td>[egypt, eu, ink, â¬138, mln, develop, financ, deal, cover, sever, sector, egypt, european, union, eu, deleg, egypt, sign, monday, number, develop, financ, agreement, worth, â¬138, million, cover, healthcar, administr, reform, environ, rural, social, develop, enhanc, govern]</td>\n",
       "      <td>economy</td>\n",
       "    </tr>\n",
       "    <tr>\n",
       "      <th>...</th>\n",
       "      <td>...</td>\n",
       "      <td>...</td>\n",
       "      <td>...</td>\n",
       "    </tr>\n",
       "    <tr>\n",
       "      <th>30594</th>\n",
       "      <td>[chekhov, three, sister, visit, auc, anton, chekhovã¯â¿â½ã¯â¿â½ã¯â¿â½, three, sister, direct, frank, bradley, perform, auc, student, de]</td>\n",
       "      <td>[chekhov, three, sister, visit, auc, anton, chekhovã¯â¿â½ã¯â¿â½ã¯â¿â½, three, sister, direct, frank, bradley, perform, auc, student, de]</td>\n",
       "      <td>art</td>\n",
       "    </tr>\n",
       "    <tr>\n",
       "      <th>30595</th>\n",
       "      <td>[egyptian, critic, win, polish, cultur, award, professor, hanaa, abdel, fattah, recognis, poland, ministri, foreign, affair]</td>\n",
       "      <td>[egyptian, critic, win, polish, cultur, award, professor, hanaa, abdel, fattah, recognis, poland, ministri, foreign, affair]</td>\n",
       "      <td>art</td>\n",
       "    </tr>\n",
       "    <tr>\n",
       "      <th>30596</th>\n",
       "      <td>[examin, act, myth, misconcept, lectur, theatr, director, professor, mahmoud, ellozi, auc]</td>\n",
       "      <td>[examin, act, myth, misconcept, lectur, theatr, director, professor, mahmoud, ellozi, auc]</td>\n",
       "      <td>art</td>\n",
       "    </tr>\n",
       "    <tr>\n",
       "      <th>30597</th>\n",
       "      <td>[juliu, caesar, twist, al, hayat, theatr, ensembl, add, twist, shakespearean, play, juliu, caesar, win, 3rd, place, el, sawi, culturewheel, 8th, theatr, festiv]</td>\n",
       "      <td>[juliu, caesar, twist, al, hayat, theatr, ensembl, add, twist, shakespearean, play, juliu, caesar, win, 3rd, place, el, sawi, culturewheel, 8th, theatr, festiv]</td>\n",
       "      <td>art</td>\n",
       "    </tr>\n",
       "    <tr>\n",
       "      <th>30598</th>\n",
       "      <td>[humourless, night, 12, novemb, standup, comedi, show, akram, hosni, took, place, el, sakia, culturewheel, theme, current, educ, system, materi, adapt, satir, book, awel, mokar, haitham, dabbour]</td>\n",
       "      <td>[humourless, night, 12, novemb, standup, comedi, show, akram, hosni, took, place, el, sakia, culturewheel, theme, current, educ, system, materi, adapt, satir, book, awel, mokar, haitham, dabbour]</td>\n",
       "      <td>art</td>\n",
       "    </tr>\n",
       "  </tbody>\n",
       "</table>\n",
       "<p>30599 rows × 3 columns</p>\n",
       "</div>"
      ],
      "text/plain": [
       "                                                                                                                                                                                                                                                                                                                                                stemmed_title  \\\n",
       "0                                                                                      [egyptbas, paymob, rais, 50, mln, seri, b, fund, round, egyptbas, paymob, financi, servic, merchant, platform, rais, 50, million, seri, b, fund, platform, use, grow, product, rang, expand, egyptian, market, well, new, market, across, middl, east, africa, region]   \n",
       "1                                                                        [egyptâ, inflat, speed, amid, war, ukrain, rise, food, energi, price, egyptâ, headlin, annual, inflat, rate, acceler, 149, percent, april, 121, percent, record, march, 44, percent, correspond, month, 2021, central, agenc, public, mobilis, statist, capma, announc, tuesday]   \n",
       "2      [ebrd, upgrad, egyptâ, gdp, growth, forecast, fy202122, 08, european, bank, reconstruct, develop, ebrd, rais, project, egyptâ, gdp, growth, current, fy202122, 57, percent, â, end, june, â, 49, percent, project, novemb, slow, 5, percent, fy202223, â, begin, juli, â, accord, region, econom, prospect, report, bank, releas, tuesday]   \n",
       "3                                                                                    [gold, price, egypt, amid, uncertain, econom, outlook, expect, dollar, price, hike, gold, price, egyptian, market, saw, fluctuat, monday, amid, uncertainti, cast, expect, rise, us, dollar, price, inflat, caus, russian, war, ukrain, well, rise, food, energi, price]   \n",
       "4                                                                        [egypt, eu, ink, â¬138, mln, develop, financ, deal, cover, sever, sector, egypt, european, union, eu, deleg, egypt, sign, monday, number, develop, financ, agreement, worth, â¬138, million, cover, healthcar, administr, reform, environ, rural, social, develop, enhanc, govern]   \n",
       "...                                                                                                                                                                                                                                                                                                                                                       ...   \n",
       "30594                                                                                                                                                                                                                [chekhov, three, sister, visit, auc, anton, chekhovã¯â¿â½ã¯â¿â½ã¯â¿â½, three, sister, direct, frank, bradley, perform, auc, student, de]   \n",
       "30595                                                                                                                                                                                                                            [egyptian, critic, win, polish, cultur, award, professor, hanaa, abdel, fattah, recognis, poland, ministri, foreign, affair]   \n",
       "30596                                                                                                                                                                                                                                                              [examin, act, myth, misconcept, lectur, theatr, director, professor, mahmoud, ellozi, auc]   \n",
       "30597                                                                                                                                                                                        [juliu, caesar, twist, al, hayat, theatr, ensembl, add, twist, shakespearean, play, juliu, caesar, win, 3rd, place, el, sawi, culturewheel, 8th, theatr, festiv]   \n",
       "30598                                                                                                                                                     [humourless, night, 12, novemb, standup, comedi, show, akram, hosni, took, place, el, sakia, culturewheel, theme, current, educ, system, materi, adapt, satir, book, awel, mokar, haitham, dabbour]   \n",
       "\n",
       "                                                                                                                                                                                                                                                                                                                                             lemmatized_title  \\\n",
       "0                                                                                      [egyptbas, paymob, rais, 50, mln, seri, b, fund, round, egyptbas, paymob, financi, servic, merchant, platform, rais, 50, million, seri, b, fund, platform, use, grow, product, rang, expand, egyptian, market, well, new, market, across, middl, east, africa, region]   \n",
       "1                                                                        [egyptâ, inflat, speed, amid, war, ukrain, rise, food, energi, price, egyptâ, headlin, annual, inflat, rate, acceler, 149, percent, april, 121, percent, record, march, 44, percent, correspond, month, 2021, central, agenc, public, mobilis, statist, capma, announc, tuesday]   \n",
       "2      [ebrd, upgrad, egyptâ, gdp, growth, forecast, fy202122, 08, european, bank, reconstruct, develop, ebrd, rais, project, egyptâ, gdp, growth, current, fy202122, 57, percent, â, end, june, â, 49, percent, project, novemb, slow, 5, percent, fy202223, â, begin, juli, â, accord, region, econom, prospect, report, bank, releas, tuesday]   \n",
       "3                                                                                     [gold, price, egypt, amid, uncertain, econom, outlook, expect, dollar, price, hike, gold, price, egyptian, market, saw, fluctuat, monday, amid, uncertainti, cast, expect, rise, u, dollar, price, inflat, caus, russian, war, ukrain, well, rise, food, energi, price]   \n",
       "4                                                                        [egypt, eu, ink, â¬138, mln, develop, financ, deal, cover, sever, sector, egypt, european, union, eu, deleg, egypt, sign, monday, number, develop, financ, agreement, worth, â¬138, million, cover, healthcar, administr, reform, environ, rural, social, develop, enhanc, govern]   \n",
       "...                                                                                                                                                                                                                                                                                                                                                       ...   \n",
       "30594                                                                                                                                                                                                                [chekhov, three, sister, visit, auc, anton, chekhovã¯â¿â½ã¯â¿â½ã¯â¿â½, three, sister, direct, frank, bradley, perform, auc, student, de]   \n",
       "30595                                                                                                                                                                                                                            [egyptian, critic, win, polish, cultur, award, professor, hanaa, abdel, fattah, recognis, poland, ministri, foreign, affair]   \n",
       "30596                                                                                                                                                                                                                                                              [examin, act, myth, misconcept, lectur, theatr, director, professor, mahmoud, ellozi, auc]   \n",
       "30597                                                                                                                                                                                        [juliu, caesar, twist, al, hayat, theatr, ensembl, add, twist, shakespearean, play, juliu, caesar, win, 3rd, place, el, sawi, culturewheel, 8th, theatr, festiv]   \n",
       "30598                                                                                                                                                     [humourless, night, 12, novemb, standup, comedi, show, akram, hosni, took, place, el, sakia, culturewheel, theme, current, educ, system, materi, adapt, satir, book, awel, mokar, haitham, dabbour]   \n",
       "\n",
       "      category  \n",
       "0      economy  \n",
       "1      economy  \n",
       "2      economy  \n",
       "3      economy  \n",
       "4      economy  \n",
       "...        ...  \n",
       "30594      art  \n",
       "30595      art  \n",
       "30596      art  \n",
       "30597      art  \n",
       "30598      art  \n",
       "\n",
       "[30599 rows x 3 columns]"
      ]
     },
     "execution_count": 21,
     "metadata": {},
     "output_type": "execute_result"
    }
   ],
   "source": [
    "df = df[['stemmed_title', 'lemmatized_title', 'category']]\n",
    "df"
   ]
  },
  {
   "cell_type": "code",
   "execution_count": 22,
   "id": "0f40ac9a",
   "metadata": {},
   "outputs": [],
   "source": [
    "# Save preprocessed text to a csv file\n",
    "df.to_csv(r\"C:\\Users\\HP\\Desktop\\For CV\\Project 5\\preprocessing\\final_df_1.csv\")"
   ]
  },
  {
   "cell_type": "markdown",
   "id": "94f1231e",
   "metadata": {},
   "source": [
    "#### Final Preprocessed text"
   ]
  },
  {
   "cell_type": "code",
   "execution_count": 23,
   "id": "2b7b6f7e",
   "metadata": {},
   "outputs": [],
   "source": [
    "df['final_text'] = df['lemmatized_title'].apply(lambda x: ' '.join(x))"
   ]
  },
  {
   "cell_type": "code",
   "execution_count": 24,
   "id": "8cc29577",
   "metadata": {},
   "outputs": [
    {
     "data": {
      "text/html": [
       "<div>\n",
       "<style scoped>\n",
       "    .dataframe tbody tr th:only-of-type {\n",
       "        vertical-align: middle;\n",
       "    }\n",
       "\n",
       "    .dataframe tbody tr th {\n",
       "        vertical-align: top;\n",
       "    }\n",
       "\n",
       "    .dataframe thead th {\n",
       "        text-align: right;\n",
       "    }\n",
       "</style>\n",
       "<table border=\"1\" class=\"dataframe\">\n",
       "  <thead>\n",
       "    <tr style=\"text-align: right;\">\n",
       "      <th></th>\n",
       "      <th>final_text</th>\n",
       "      <th>category</th>\n",
       "    </tr>\n",
       "  </thead>\n",
       "  <tbody>\n",
       "    <tr>\n",
       "      <th>0</th>\n",
       "      <td>egyptbas paymob rais 50 mln seri b fund round egyptbas paymob financi servic merchant platform rais 50 million seri b fund platform use grow product rang expand egyptian market well new market across middl east africa region</td>\n",
       "      <td>economy</td>\n",
       "    </tr>\n",
       "    <tr>\n",
       "      <th>1</th>\n",
       "      <td>egyptâ inflat speed amid war ukrain rise food energi price egyptâ headlin annual inflat rate acceler 149 percent april 121 percent record march 44 percent correspond month 2021 central agenc public mobilis statist capma announc tuesday</td>\n",
       "      <td>economy</td>\n",
       "    </tr>\n",
       "    <tr>\n",
       "      <th>2</th>\n",
       "      <td>ebrd upgrad egyptâ gdp growth forecast fy202122 08 european bank reconstruct develop ebrd rais project egyptâ gdp growth current fy202122 57 percent â end june â 49 percent project novemb slow 5 percent fy202223 â begin juli â accord region econom prospect report bank releas tuesday</td>\n",
       "      <td>economy</td>\n",
       "    </tr>\n",
       "    <tr>\n",
       "      <th>3</th>\n",
       "      <td>gold price egypt amid uncertain econom outlook expect dollar price hike gold price egyptian market saw fluctuat monday amid uncertainti cast expect rise u dollar price inflat caus russian war ukrain well rise food energi price</td>\n",
       "      <td>economy</td>\n",
       "    </tr>\n",
       "    <tr>\n",
       "      <th>4</th>\n",
       "      <td>egypt eu ink â¬138 mln develop financ deal cover sever sector egypt european union eu deleg egypt sign monday number develop financ agreement worth â¬138 million cover healthcar administr reform environ rural social develop enhanc govern</td>\n",
       "      <td>economy</td>\n",
       "    </tr>\n",
       "    <tr>\n",
       "      <th>...</th>\n",
       "      <td>...</td>\n",
       "      <td>...</td>\n",
       "    </tr>\n",
       "    <tr>\n",
       "      <th>30594</th>\n",
       "      <td>chekhov three sister visit auc anton chekhovã¯â¿â½ã¯â¿â½ã¯â¿â½ three sister direct frank bradley perform auc student de</td>\n",
       "      <td>art</td>\n",
       "    </tr>\n",
       "    <tr>\n",
       "      <th>30595</th>\n",
       "      <td>egyptian critic win polish cultur award professor hanaa abdel fattah recognis poland ministri foreign affair</td>\n",
       "      <td>art</td>\n",
       "    </tr>\n",
       "    <tr>\n",
       "      <th>30596</th>\n",
       "      <td>examin act myth misconcept lectur theatr director professor mahmoud ellozi auc</td>\n",
       "      <td>art</td>\n",
       "    </tr>\n",
       "    <tr>\n",
       "      <th>30597</th>\n",
       "      <td>juliu caesar twist al hayat theatr ensembl add twist shakespearean play juliu caesar win 3rd place el sawi culturewheel 8th theatr festiv</td>\n",
       "      <td>art</td>\n",
       "    </tr>\n",
       "    <tr>\n",
       "      <th>30598</th>\n",
       "      <td>humourless night 12 novemb standup comedi show akram hosni took place el sakia culturewheel theme current educ system materi adapt satir book awel mokar haitham dabbour</td>\n",
       "      <td>art</td>\n",
       "    </tr>\n",
       "  </tbody>\n",
       "</table>\n",
       "<p>30599 rows × 2 columns</p>\n",
       "</div>"
      ],
      "text/plain": [
       "                                                                                                                                                                                                                                                                                                    final_text  \\\n",
       "0                                                                             egyptbas paymob rais 50 mln seri b fund round egyptbas paymob financi servic merchant platform rais 50 million seri b fund platform use grow product rang expand egyptian market well new market across middl east africa region   \n",
       "1                                                              egyptâ inflat speed amid war ukrain rise food energi price egyptâ headlin annual inflat rate acceler 149 percent april 121 percent record march 44 percent correspond month 2021 central agenc public mobilis statist capma announc tuesday   \n",
       "2      ebrd upgrad egyptâ gdp growth forecast fy202122 08 european bank reconstruct develop ebrd rais project egyptâ gdp growth current fy202122 57 percent â end june â 49 percent project novemb slow 5 percent fy202223 â begin juli â accord region econom prospect report bank releas tuesday   \n",
       "3                                                                           gold price egypt amid uncertain econom outlook expect dollar price hike gold price egyptian market saw fluctuat monday amid uncertainti cast expect rise u dollar price inflat caus russian war ukrain well rise food energi price   \n",
       "4                                                              egypt eu ink â¬138 mln develop financ deal cover sever sector egypt european union eu deleg egypt sign monday number develop financ agreement worth â¬138 million cover healthcar administr reform environ rural social develop enhanc govern   \n",
       "...                                                                                                                                                                                                                                                                                                        ...   \n",
       "30594                                                                                                                                                                                  chekhov three sister visit auc anton chekhovã¯â¿â½ã¯â¿â½ã¯â¿â½ three sister direct frank bradley perform auc student de   \n",
       "30595                                                                                                                                                                                             egyptian critic win polish cultur award professor hanaa abdel fattah recognis poland ministri foreign affair   \n",
       "30596                                                                                                                                                                                                                           examin act myth misconcept lectur theatr director professor mahmoud ellozi auc   \n",
       "30597                                                                                                                                                                juliu caesar twist al hayat theatr ensembl add twist shakespearean play juliu caesar win 3rd place el sawi culturewheel 8th theatr festiv   \n",
       "30598                                                                                                                                 humourless night 12 novemb standup comedi show akram hosni took place el sakia culturewheel theme current educ system materi adapt satir book awel mokar haitham dabbour   \n",
       "\n",
       "      category  \n",
       "0      economy  \n",
       "1      economy  \n",
       "2      economy  \n",
       "3      economy  \n",
       "4      economy  \n",
       "...        ...  \n",
       "30594      art  \n",
       "30595      art  \n",
       "30596      art  \n",
       "30597      art  \n",
       "30598      art  \n",
       "\n",
       "[30599 rows x 2 columns]"
      ]
     },
     "execution_count": 24,
     "metadata": {},
     "output_type": "execute_result"
    }
   ],
   "source": [
    "# save preprocessed df\n",
    "pp_df = df[['final_text', 'category']]\n",
    "pp_df"
   ]
  },
  {
   "cell_type": "code",
   "execution_count": 25,
   "id": "43e99502",
   "metadata": {},
   "outputs": [],
   "source": [
    "pp_df.to_csv(r\"C:\\Users\\HP\\Desktop\\For CV\\Project 5\\preprocessing\\final_df_2.csv\")"
   ]
  },
  {
   "cell_type": "markdown",
   "id": "c5c3ea40",
   "metadata": {},
   "source": [
    "### Final Thoughts"
   ]
  },
  {
   "cell_type": "markdown",
   "id": "f5585865",
   "metadata": {},
   "source": [
    "Our data is cleaned, preprocessed, and ready.\n",
    "\n",
    "In the next notebook, We will convert our text data to numeric form and build our machine learning model."
   ]
  },
  {
   "cell_type": "code",
   "execution_count": null,
   "id": "f122fa9e",
   "metadata": {},
   "outputs": [],
   "source": []
  }
 ],
 "metadata": {
  "kernelspec": {
   "display_name": "Python 3 (ipykernel)",
   "language": "python",
   "name": "python3"
  },
  "language_info": {
   "codemirror_mode": {
    "name": "ipython",
    "version": 3
   },
   "file_extension": ".py",
   "mimetype": "text/x-python",
   "name": "python",
   "nbconvert_exporter": "python",
   "pygments_lexer": "ipython3",
   "version": "3.10.4"
  }
 },
 "nbformat": 4,
 "nbformat_minor": 5
}
