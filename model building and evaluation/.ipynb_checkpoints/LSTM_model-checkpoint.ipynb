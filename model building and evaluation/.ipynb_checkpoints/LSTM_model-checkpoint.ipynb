{
 "cells": [
  {
   "cell_type": "markdown",
   "metadata": {
    "id": "w5FZMry0scfu"
   },
   "source": [
    "### Mount Drive"
   ]
  },
  {
   "cell_type": "code",
   "execution_count": 1,
   "metadata": {
    "colab": {
     "base_uri": "https://localhost:8080/"
    },
    "id": "5F-aGPR7sZAm",
    "outputId": "5460403b-1199-40b0-a38f-3d4bff7060f7"
   },
   "outputs": [
    {
     "name": "stdout",
     "output_type": "stream",
     "text": [
      "Drive already mounted at /content/drive; to attempt to forcibly remount, call drive.mount(\"/content/drive\", force_remount=True).\n"
     ]
    }
   ],
   "source": [
    "from google.colab import drive\n",
    "drive.mount('/content/drive')"
   ]
  },
  {
   "cell_type": "markdown",
   "metadata": {
    "id": "No6b6rfetUNz"
   },
   "source": [
    "I went to use google colab because there are some problems of importing some packages of tensorflow and some inconsistencies on my computer."
   ]
  },
  {
   "cell_type": "markdown",
   "metadata": {
    "id": "3Xf-OF99saES"
   },
   "source": [
    "### Importing Libraries"
   ]
  },
  {
   "cell_type": "code",
   "execution_count": 2,
   "metadata": {
    "colab": {
     "base_uri": "https://localhost:8080/"
    },
    "id": "FJs3nxwCsJhk",
    "outputId": "ce3fac65-b6b7-4d52-ff7b-ee0015708f0b"
   },
   "outputs": [
    {
     "name": "stdout",
     "output_type": "stream",
     "text": [
      "Working directory: /content\n",
      "New working directory /content/drive/MyDrive/Colab Notebooks/Project 5\n",
      "\n",
      "/content/drive/MyDrive/Colab Notebooks/Project 5/model building and evaluation/ml_model.html\n",
      "/content/drive/MyDrive/Colab Notebooks/Project 5/model building and evaluation/ml_models.ipynb\n",
      "/content/drive/MyDrive/Colab Notebooks/Project 5/model building and evaluation/LSTM_based_model.ipynb\n",
      "/content/drive/MyDrive/Colab Notebooks/Project 5/model building and evaluation/.ipynb_checkpoints/ml_models-checkpoint.ipynb\n",
      "/content/drive/MyDrive/Colab Notebooks/Project 5/model building and evaluation/.ipynb_checkpoints/LSTM_based_model-checkpoint.ipynb\n",
      "/content/drive/MyDrive/Colab Notebooks/Project 5/data cleaning/data_cleaning.html\n",
      "/content/drive/MyDrive/Colab Notebooks/Project 5/data cleaning/data_cleaning.ipynb\n",
      "/content/drive/MyDrive/Colab Notebooks/Project 5/data cleaning/clean_df.csv\n",
      "/content/drive/MyDrive/Colab Notebooks/Project 5/data cleaning/.ipynb_checkpoints/data_cleaning-checkpoint.ipynb\n",
      "/content/drive/MyDrive/Colab Notebooks/Project 5/data collection/economy_2.csv\n",
      "/content/drive/MyDrive/Colab Notebooks/Project 5/data collection/sports_2.csv\n",
      "/content/drive/MyDrive/Colab Notebooks/Project 5/data collection/articles_scraper.ipynb\n",
      "/content/drive/MyDrive/Colab Notebooks/Project 5/data collection/articles_scraper.html\n",
      "/content/drive/MyDrive/Colab Notebooks/Project 5/data collection/arts_2.csv\n",
      "/content/drive/MyDrive/Colab Notebooks/Project 5/data collection/.ipynb_checkpoints/articles_scraper-checkpoint.ipynb\n",
      "/content/drive/MyDrive/Colab Notebooks/Project 5/.ipynb_checkpoints/articles_scraper-checkpoint.ipynb\n",
      "/content/drive/MyDrive/Colab Notebooks/Project 5/data preprocessing/final_df_1.csv\n",
      "/content/drive/MyDrive/Colab Notebooks/Project 5/data preprocessing/final_df_2.csv\n",
      "/content/drive/MyDrive/Colab Notebooks/Project 5/data preprocessing/text_preprocessing.ipynb\n",
      "/content/drive/MyDrive/Colab Notebooks/Project 5/data preprocessing/text_preprocessing.html\n",
      "/content/drive/MyDrive/Colab Notebooks/Project 5/data preprocessing/.ipynb_checkpoints/text_preprocessing-checkpoint.ipynb\n"
     ]
    }
   ],
   "source": [
    "import numpy as np  \n",
    "import pandas as pd\n",
    "import os\n",
    "import matplotlib.pyplot as plt\n",
    "import seaborn as sns\n",
    "\n",
    "%matplotlib inline\n",
    "\n",
    "# tensorflow and keras\n",
    "import tensorflow as tf\n",
    "from tensorflow import keras\n",
    "from keras.preprocessing.text import Tokenizer\n",
    "from keras.preprocessing.sequence import pad_sequences\n",
    "from keras.models import Sequential\n",
    "from keras.layers import Dense, LSTM, Dropout, Activation\n",
    "from keras.layers.embeddings import Embedding\n",
    "# sklearn\n",
    "from sklearn.model_selection import train_test_split\n",
    "\n",
    "# options\n",
    "# Increase width to see the article_title clearly\n",
    "pd.set_option('display.max_colwidth', None)\n",
    "sns.set(style='whitegrid', font_scale=1.5)\n",
    "\n",
    "# our project path\n",
    "project_path = '/content/drive/MyDrive/Colab Notebooks/Project 5'\n",
    "# check working directory\n",
    "print(\"Working directory:\", os.getcwd())\n",
    "# change working directory and list all files in project directory\n",
    "os.chdir(project_path)\n",
    "print(\"New working directory\", project_path)\n",
    "print()\n",
    "for dirname, _, filenames in os.walk(project_path):\n",
    "    for filename in filenames:\n",
    "        print(os.path.join(dirname, filename))"
   ]
  },
  {
   "cell_type": "code",
   "execution_count": 3,
   "metadata": {
    "colab": {
     "base_uri": "https://localhost:8080/",
     "height": 554
    },
    "id": "k2k8lG6vsMCN",
    "outputId": "d3d448c3-50b2-4348-f27c-d56510732c6f"
   },
   "outputs": [
    {
     "data": {
      "text/html": [
       "\n",
       "  <div id=\"df-ff23a598-1904-4e15-a8d9-302997fa7337\">\n",
       "    <div class=\"colab-df-container\">\n",
       "      <div>\n",
       "<style scoped>\n",
       "    .dataframe tbody tr th:only-of-type {\n",
       "        vertical-align: middle;\n",
       "    }\n",
       "\n",
       "    .dataframe tbody tr th {\n",
       "        vertical-align: top;\n",
       "    }\n",
       "\n",
       "    .dataframe thead th {\n",
       "        text-align: right;\n",
       "    }\n",
       "</style>\n",
       "<table border=\"1\" class=\"dataframe\">\n",
       "  <thead>\n",
       "    <tr style=\"text-align: right;\">\n",
       "      <th></th>\n",
       "      <th>final_text</th>\n",
       "      <th>category</th>\n",
       "    </tr>\n",
       "  </thead>\n",
       "  <tbody>\n",
       "    <tr>\n",
       "      <th>0</th>\n",
       "      <td>egyptbas paymob rais 50 mln seri b fund round egyptbas paymob financi servic merchant platform rais 50 million seri b fund platform use grow product rang expand egyptian market well new market across middl east africa region</td>\n",
       "      <td>economy</td>\n",
       "    </tr>\n",
       "    <tr>\n",
       "      <th>1</th>\n",
       "      <td>egyptâ inflat speed amid war ukrain rise food energi price egyptâ headlin annual inflat rate acceler 149 percent april 121 percent record march 44 percent correspond month 2021 central agenc public mobilis statist capma announc tuesday</td>\n",
       "      <td>economy</td>\n",
       "    </tr>\n",
       "    <tr>\n",
       "      <th>2</th>\n",
       "      <td>ebrd upgrad egyptâ gdp growth forecast fy202122 08 european bank reconstruct develop ebrd rais project egyptâ gdp growth current fy202122 57 percent â end june â 49 percent project novemb slow 5 percent fy202223 â begin juli â accord region econom prospect report bank releas tuesday</td>\n",
       "      <td>economy</td>\n",
       "    </tr>\n",
       "    <tr>\n",
       "      <th>3</th>\n",
       "      <td>gold price egypt amid uncertain econom outlook expect dollar price hike gold price egyptian market saw fluctuat monday amid uncertainti cast expect rise u dollar price inflat caus russian war ukrain well rise food energi price</td>\n",
       "      <td>economy</td>\n",
       "    </tr>\n",
       "    <tr>\n",
       "      <th>4</th>\n",
       "      <td>egypt eu ink â¬138 mln develop financ deal cover sever sector egypt european union eu deleg egypt sign monday number develop financ agreement worth â¬138 million cover healthcar administr reform environ rural social develop enhanc govern</td>\n",
       "      <td>economy</td>\n",
       "    </tr>\n",
       "    <tr>\n",
       "      <th>...</th>\n",
       "      <td>...</td>\n",
       "      <td>...</td>\n",
       "    </tr>\n",
       "    <tr>\n",
       "      <th>30594</th>\n",
       "      <td>chekhov three sister visit auc anton chekhovã¯â¿â½ã¯â¿â½ã¯â¿â½ three sister direct frank bradley perform auc student de</td>\n",
       "      <td>art</td>\n",
       "    </tr>\n",
       "    <tr>\n",
       "      <th>30595</th>\n",
       "      <td>egyptian critic win polish cultur award professor hanaa abdel fattah recognis poland ministri foreign affair</td>\n",
       "      <td>art</td>\n",
       "    </tr>\n",
       "    <tr>\n",
       "      <th>30596</th>\n",
       "      <td>examin act myth misconcept lectur theatr director professor mahmoud ellozi auc</td>\n",
       "      <td>art</td>\n",
       "    </tr>\n",
       "    <tr>\n",
       "      <th>30597</th>\n",
       "      <td>juliu caesar twist al hayat theatr ensembl add twist shakespearean play juliu caesar win 3rd place el sawi culturewheel 8th theatr festiv</td>\n",
       "      <td>art</td>\n",
       "    </tr>\n",
       "    <tr>\n",
       "      <th>30598</th>\n",
       "      <td>humourless night 12 novemb standup comedi show akram hosni took place el sakia culturewheel theme current educ system materi adapt satir book awel mokar haitham dabbour</td>\n",
       "      <td>art</td>\n",
       "    </tr>\n",
       "  </tbody>\n",
       "</table>\n",
       "<p>30599 rows × 2 columns</p>\n",
       "</div>\n",
       "      <button class=\"colab-df-convert\" onclick=\"convertToInteractive('df-ff23a598-1904-4e15-a8d9-302997fa7337')\"\n",
       "              title=\"Convert this dataframe to an interactive table.\"\n",
       "              style=\"display:none;\">\n",
       "        \n",
       "  <svg xmlns=\"http://www.w3.org/2000/svg\" height=\"24px\"viewBox=\"0 0 24 24\"\n",
       "       width=\"24px\">\n",
       "    <path d=\"M0 0h24v24H0V0z\" fill=\"none\"/>\n",
       "    <path d=\"M18.56 5.44l.94 2.06.94-2.06 2.06-.94-2.06-.94-.94-2.06-.94 2.06-2.06.94zm-11 1L8.5 8.5l.94-2.06 2.06-.94-2.06-.94L8.5 2.5l-.94 2.06-2.06.94zm10 10l.94 2.06.94-2.06 2.06-.94-2.06-.94-.94-2.06-.94 2.06-2.06.94z\"/><path d=\"M17.41 7.96l-1.37-1.37c-.4-.4-.92-.59-1.43-.59-.52 0-1.04.2-1.43.59L10.3 9.45l-7.72 7.72c-.78.78-.78 2.05 0 2.83L4 21.41c.39.39.9.59 1.41.59.51 0 1.02-.2 1.41-.59l7.78-7.78 2.81-2.81c.8-.78.8-2.07 0-2.86zM5.41 20L4 18.59l7.72-7.72 1.47 1.35L5.41 20z\"/>\n",
       "  </svg>\n",
       "      </button>\n",
       "      \n",
       "  <style>\n",
       "    .colab-df-container {\n",
       "      display:flex;\n",
       "      flex-wrap:wrap;\n",
       "      gap: 12px;\n",
       "    }\n",
       "\n",
       "    .colab-df-convert {\n",
       "      background-color: #E8F0FE;\n",
       "      border: none;\n",
       "      border-radius: 50%;\n",
       "      cursor: pointer;\n",
       "      display: none;\n",
       "      fill: #1967D2;\n",
       "      height: 32px;\n",
       "      padding: 0 0 0 0;\n",
       "      width: 32px;\n",
       "    }\n",
       "\n",
       "    .colab-df-convert:hover {\n",
       "      background-color: #E2EBFA;\n",
       "      box-shadow: 0px 1px 2px rgba(60, 64, 67, 0.3), 0px 1px 3px 1px rgba(60, 64, 67, 0.15);\n",
       "      fill: #174EA6;\n",
       "    }\n",
       "\n",
       "    [theme=dark] .colab-df-convert {\n",
       "      background-color: #3B4455;\n",
       "      fill: #D2E3FC;\n",
       "    }\n",
       "\n",
       "    [theme=dark] .colab-df-convert:hover {\n",
       "      background-color: #434B5C;\n",
       "      box-shadow: 0px 1px 3px 1px rgba(0, 0, 0, 0.15);\n",
       "      filter: drop-shadow(0px 1px 2px rgba(0, 0, 0, 0.3));\n",
       "      fill: #FFFFFF;\n",
       "    }\n",
       "  </style>\n",
       "\n",
       "      <script>\n",
       "        const buttonEl =\n",
       "          document.querySelector('#df-ff23a598-1904-4e15-a8d9-302997fa7337 button.colab-df-convert');\n",
       "        buttonEl.style.display =\n",
       "          google.colab.kernel.accessAllowed ? 'block' : 'none';\n",
       "\n",
       "        async function convertToInteractive(key) {\n",
       "          const element = document.querySelector('#df-ff23a598-1904-4e15-a8d9-302997fa7337');\n",
       "          const dataTable =\n",
       "            await google.colab.kernel.invokeFunction('convertToInteractive',\n",
       "                                                     [key], {});\n",
       "          if (!dataTable) return;\n",
       "\n",
       "          const docLinkHtml = 'Like what you see? Visit the ' +\n",
       "            '<a target=\"_blank\" href=https://colab.research.google.com/notebooks/data_table.ipynb>data table notebook</a>'\n",
       "            + ' to learn more about interactive tables.';\n",
       "          element.innerHTML = '';\n",
       "          dataTable['output_type'] = 'display_data';\n",
       "          await google.colab.output.renderOutput(dataTable, element);\n",
       "          const docLink = document.createElement('div');\n",
       "          docLink.innerHTML = docLinkHtml;\n",
       "          element.appendChild(docLink);\n",
       "        }\n",
       "      </script>\n",
       "    </div>\n",
       "  </div>\n",
       "  "
      ],
      "text/plain": [
       "                                                                                                                                                                                                                                                                                                    final_text  \\\n",
       "0                                                                             egyptbas paymob rais 50 mln seri b fund round egyptbas paymob financi servic merchant platform rais 50 million seri b fund platform use grow product rang expand egyptian market well new market across middl east africa region   \n",
       "1                                                              egyptâ inflat speed amid war ukrain rise food energi price egyptâ headlin annual inflat rate acceler 149 percent april 121 percent record march 44 percent correspond month 2021 central agenc public mobilis statist capma announc tuesday   \n",
       "2      ebrd upgrad egyptâ gdp growth forecast fy202122 08 european bank reconstruct develop ebrd rais project egyptâ gdp growth current fy202122 57 percent â end june â 49 percent project novemb slow 5 percent fy202223 â begin juli â accord region econom prospect report bank releas tuesday   \n",
       "3                                                                           gold price egypt amid uncertain econom outlook expect dollar price hike gold price egyptian market saw fluctuat monday amid uncertainti cast expect rise u dollar price inflat caus russian war ukrain well rise food energi price   \n",
       "4                                                              egypt eu ink â¬138 mln develop financ deal cover sever sector egypt european union eu deleg egypt sign monday number develop financ agreement worth â¬138 million cover healthcar administr reform environ rural social develop enhanc govern   \n",
       "...                                                                                                                                                                                                                                                                                                        ...   \n",
       "30594                                                                                                                                                                                  chekhov three sister visit auc anton chekhovã¯â¿â½ã¯â¿â½ã¯â¿â½ three sister direct frank bradley perform auc student de   \n",
       "30595                                                                                                                                                                                             egyptian critic win polish cultur award professor hanaa abdel fattah recognis poland ministri foreign affair   \n",
       "30596                                                                                                                                                                                                                           examin act myth misconcept lectur theatr director professor mahmoud ellozi auc   \n",
       "30597                                                                                                                                                                juliu caesar twist al hayat theatr ensembl add twist shakespearean play juliu caesar win 3rd place el sawi culturewheel 8th theatr festiv   \n",
       "30598                                                                                                                                 humourless night 12 novemb standup comedi show akram hosni took place el sakia culturewheel theme current educ system materi adapt satir book awel mokar haitham dabbour   \n",
       "\n",
       "      category  \n",
       "0      economy  \n",
       "1      economy  \n",
       "2      economy  \n",
       "3      economy  \n",
       "4      economy  \n",
       "...        ...  \n",
       "30594      art  \n",
       "30595      art  \n",
       "30596      art  \n",
       "30597      art  \n",
       "30598      art  \n",
       "\n",
       "[30599 rows x 2 columns]"
      ]
     },
     "execution_count": 3,
     "metadata": {},
     "output_type": "execute_result"
    }
   ],
   "source": [
    "data = pd.read_csv('/content/drive/MyDrive/Colab Notebooks/Project 5/data preprocessing/final_df_2.csv').drop(columns = ['Unnamed: 0'])\n",
    "data"
   ]
  },
  {
   "cell_type": "markdown",
   "metadata": {
    "id": "QAYINCn2uCPM"
   },
   "source": [
    "### LSTM Modelling:\n",
    "\n",
    "1.   Vectorize title articles, by turning each text into either a sequence of integers into a vector.\n",
    "\n",
    "\n",
    "2.  Limit the dataset to the top 'n_most_common_words'\n",
    "\n",
    "\n",
    "3.  Find the longest article in terms of number of words,\n",
    "    and set the max number of words for article title.\n",
    "    \n",
    "\n"
   ]
  },
  {
   "cell_type": "code",
   "execution_count": 4,
   "metadata": {
    "colab": {
     "base_uri": "https://localhost:8080/"
    },
    "id": "rMJim8DOsMEl",
    "outputId": "776ff3ce-1b06-407a-a3cd-1d2754d526d3"
   },
   "outputs": [
    {
     "name": "stdout",
     "output_type": "stream",
     "text": [
      "402 7\n"
     ]
    }
   ],
   "source": [
    "# get articles lengthes.\n",
    "lens = [len(article) for article in data['final_text']]\n",
    "# max. number of words in articles\n",
    "max_words, min_words = np.max(lens), np.min(lens)\n",
    "print(max_words, min_words)"
   ]
  },
  {
   "cell_type": "code",
   "execution_count": 5,
   "metadata": {
    "id": "X3bKRnr6sMGv"
   },
   "outputs": [],
   "source": [
    "# Set the max_nb_words to appropriate value\n",
    "max_sequence_length = 300\n",
    "# Limit the dataset to the top 50,000 top words\n",
    "max_nb_common_words = 50000\n",
    "# Embedding vectors dimension ,This is fixed\n",
    "embedding_dim = 100"
   ]
  },
  {
   "cell_type": "code",
   "execution_count": 6,
   "metadata": {
    "id": "uurxVFzqsMJE"
   },
   "outputs": [],
   "source": [
    "# Keras tokneizer\n",
    "tokenizer = Tokenizer(num_words = max_nb_common_words, filters='!\"#$%&()*+,-./:;<=>?@[\\]^_`{|}~', lower=True)\n",
    "tokenizer.fit_on_texts(data['final_text'].values)"
   ]
  },
  {
   "cell_type": "markdown",
   "metadata": {
    "id": "sYxiSn90yl9T"
   },
   "source": [
    "Once fit, the tokenizer provides 4 attributes that you can use to query what has been learnt about your documents:\n",
    "\n",
    "* word_counts: A dictionary of words and their counts\n",
    "\n",
    "* word_docs: A dictionary of words and many documents each appeared in\n",
    "\n",
    "* word_index: A dictionary of words and their uniquely assigned integers\n",
    "\n",
    "* document_count: An integer count of the total number of documents that we used to fit the tokenizer"
   ]
  },
  {
   "cell_type": "code",
   "execution_count": 7,
   "metadata": {
    "colab": {
     "base_uri": "https://localhost:8080/"
    },
    "id": "L4aR6LqmsMLF",
    "outputId": "65856cd3-dabd-4b2a-d47b-a332839a5f49"
   },
   "outputs": [
    {
     "name": "stdout",
     "output_type": "stream",
     "text": [
      "Found 25323 unique tokens\n"
     ]
    }
   ],
   "source": [
    "word_index = tokenizer.word_index\n",
    "print(f'Found {len(word_index)} unique tokens')"
   ]
  },
  {
   "cell_type": "markdown",
   "metadata": {
    "id": "7U4Jx_kLzols"
   },
   "source": [
    "**Truncate and pad the input sequences so that they are all in the same length for modelling.**"
   ]
  },
  {
   "cell_type": "code",
   "execution_count": 8,
   "metadata": {
    "colab": {
     "base_uri": "https://localhost:8080/"
    },
    "id": "yNR7qa8-zFqn",
    "outputId": "2769664b-ecf9-40c1-cbc6-c53eb843db2b"
   },
   "outputs": [
    {
     "name": "stdout",
     "output_type": "stream",
     "text": [
      "Shape of data tensor (30599, 300)\n"
     ]
    }
   ],
   "source": [
    "X = tokenizer.texts_to_sequences(data['final_text'].values)\n",
    "X = pad_sequences(X, maxlen = max_sequence_length)\n",
    "print(\"Shape of data tensor\", X.shape)"
   ]
  },
  {
   "cell_type": "markdown",
   "metadata": {
    "id": "6Yoy-kUm0CgK"
   },
   "source": [
    "**Converting categorical labels to numbers**"
   ]
  },
  {
   "cell_type": "code",
   "execution_count": 9,
   "metadata": {
    "colab": {
     "base_uri": "https://localhost:8080/"
    },
    "id": "B7ylxh8Cz_2a",
    "outputId": "496a639f-82c0-48da-a618-fb50e470c5da"
   },
   "outputs": [
    {
     "name": "stdout",
     "output_type": "stream",
     "text": [
      "Shape of label tensor: (30599, 3)\n"
     ]
    }
   ],
   "source": [
    "Y = pd.get_dummies(data['category']).values\n",
    "print(\"Shape of label tensor:\", Y.shape)"
   ]
  },
  {
   "cell_type": "markdown",
   "metadata": {
    "id": "mkq3ckaD0TPY"
   },
   "source": [
    "**Tain test split**"
   ]
  },
  {
   "cell_type": "code",
   "execution_count": 10,
   "metadata": {
    "colab": {
     "base_uri": "https://localhost:8080/"
    },
    "id": "ApTWMjlC0PaS",
    "outputId": "f811c564-8f31-4645-e366-79f776fe657b"
   },
   "outputs": [
    {
     "name": "stdout",
     "output_type": "stream",
     "text": [
      "Train shapes: (24479, 300) (24479, 3)\n",
      "Test shapes: (6120, 300) (6120, 3)\n"
     ]
    }
   ],
   "source": [
    "X_train, X_test, y_train, y_test = train_test_split(X, Y, test_size=0.2, random_state=25)\n",
    "print(\"Train shapes:\", X_train.shape, y_train.shape)\n",
    "print(\"Test shapes:\", X_test.shape, y_test.shape)"
   ]
  },
  {
   "cell_type": "markdown",
   "metadata": {
    "id": "s9wk-jy505z7"
   },
   "source": [
    "### Model building"
   ]
  },
  {
   "cell_type": "code",
   "execution_count": 11,
   "metadata": {
    "colab": {
     "base_uri": "https://localhost:8080/"
    },
    "id": "9zKO1I6r0mgh",
    "outputId": "c9472196-4bc6-40f7-b9ba-9bf988de2847"
   },
   "outputs": [
    {
     "name": "stdout",
     "output_type": "stream",
     "text": [
      "Epoch 1/3\n",
      "173/173 [==============================] - 185s 1s/step - loss: 0.2827 - accuracy: 0.8916 - val_loss: 0.0365 - val_accuracy: 0.9902\n",
      "Epoch 2/3\n",
      "173/173 [==============================] - 164s 948ms/step - loss: 0.0174 - accuracy: 0.9959 - val_loss: 0.0308 - val_accuracy: 0.9906\n",
      "Epoch 3/3\n",
      "173/173 [==============================] - 164s 947ms/step - loss: 0.0052 - accuracy: 0.9992 - val_loss: 0.0220 - val_accuracy: 0.9922\n"
     ]
    }
   ],
   "source": [
    "model = Sequential()\n",
    "# The first layer is the embedding layer that uses a 100 length vector to represent each word\n",
    "model.add(Embedding(max_nb_common_words, embedding_dim, input_length = max_sequence_length))\n",
    "# a drop out layer\n",
    "model.add(Dropout(0.2))\n",
    "# LSTM with 100 memory units\n",
    "model.add(LSTM(100))\n",
    "# The output layer must create 3 values, one for each class\n",
    "model.add(Dense(3))\n",
    "# Softmax activation to calculate class probabilities\n",
    "model.add(Activation('softmax'))\n",
    "# Because of multi-class classification, categorical_crossentropy is used as loss function\n",
    "model.compile(loss='categorical_crossentropy', optimizer='adam', metrics=['accuracy'])\n",
    "\n",
    "epochs = 3\n",
    "batch_size = 128\n",
    "# fit model\n",
    "history = model.fit(X_train, y_train, epochs=epochs, batch_size=batch_size, validation_split=0.1)"
   ]
  },
  {
   "cell_type": "markdown",
   "metadata": {
    "id": "TD_3jbll92SQ"
   },
   "source": [
    "### Visualization of training and validation loss"
   ]
  },
  {
   "cell_type": "code",
   "execution_count": 12,
   "metadata": {
    "colab": {
     "base_uri": "https://localhost:8080/"
    },
    "id": "BW6Q59Te2edY",
    "outputId": "2b8e4c49-52e0-45c1-e46e-bc5e892f854e"
   },
   "outputs": [
    {
     "data": {
      "text/plain": [
       "{'accuracy': [0.8915618658065796, 0.995914876461029, 0.9991829991340637],\n",
       " 'loss': [0.2826812267303467, 0.017440391704440117, 0.005202196538448334],\n",
       " 'val_accuracy': [0.9901960492134094, 0.9906045794487, 0.9922385811805725],\n",
       " 'val_loss': [0.03648550435900688, 0.030753159895539284, 0.021954741328954697]}"
      ]
     },
     "execution_count": 12,
     "metadata": {},
     "output_type": "execute_result"
    }
   ],
   "source": [
    "history.history"
   ]
  },
  {
   "cell_type": "code",
   "execution_count": 13,
   "metadata": {
    "colab": {
     "base_uri": "https://localhost:8080/",
     "height": 298
    },
    "id": "IC1n58Xq9GB3",
    "outputId": "3486d26e-2567-4d68-dbeb-801ffc88ecc5"
   },
   "outputs": [
    {
     "data": {
      "image/png": "[encoded data removed]",
      "text/plain": [
       "<Figure size 432x288 with 1 Axes>"
      ]
     },
     "metadata": {},
     "output_type": "display_data"
    }
   ],
   "source": [
    "fig, ax = plt.subplots(figsize=(6, 4))\n",
    "ax.plot(np.array(history.history['loss']), label='Training loss')\n",
    "ax.plot(np.array(history.history['val_loss']), label='validation_loss')\n",
    "plt.xlabel('epochs')\n",
    "plt.ylabel('loss')\n",
    "ax.legend()\n",
    "plt.show()"
   ]
  },
  {
   "cell_type": "markdown",
   "metadata": {
    "id": "K_KKbFLm-9Zs"
   },
   "source": [
    "### Visualization of training and validation accuracies"
   ]
  },
  {
   "cell_type": "code",
   "execution_count": 14,
   "metadata": {
    "colab": {
     "base_uri": "https://localhost:8080/",
     "height": 298
    },
    "id": "Us6DUcqk-EhL",
    "outputId": "56190520-080d-43c8-cb49-58dd99703e3f"
   },
   "outputs": [
    {
     "data": {
      "image/png": "[encoded data removed]",
      "text/plain": [
       "<Figure size 432x288 with 1 Axes>"
      ]
     },
     "metadata": {},
     "output_type": "display_data"
    }
   ],
   "source": [
    "fig, ax = plt.subplots(figsize=(6, 4))\n",
    "ax.plot(np.array(history.history['accuracy']), label='Training_accuracy')\n",
    "ax.plot(np.array(history.history['val_accuracy']), label='validation_accuracy')\n",
    "plt.xlabel('epochs')\n",
    "plt.ylabel('accuracy')\n",
    "ax.legend()\n",
    "plt.show()"
   ]
  },
  {
   "cell_type": "markdown",
   "metadata": {
    "id": "20PQqxR__zbS"
   },
   "source": [
    "### Model Evaluation"
   ]
  },
  {
   "cell_type": "code",
   "execution_count": 15,
   "metadata": {
    "colab": {
     "base_uri": "https://localhost:8080/"
    },
    "id": "9XCbcPeW-NLP",
    "outputId": "eddf1141-7d00-40d3-92de-24da9d82627d"
   },
   "outputs": [
    {
     "name": "stdout",
     "output_type": "stream",
     "text": [
      "192/192 [==============================] - 13s 67ms/step - loss: 0.0272 - accuracy: 0.9904\n",
      "Test set: Loss: 0.027157604694366455, Accuracy: 0.9903594851493835\n"
     ]
    }
   ],
   "source": [
    "accuracy = model.evaluate(X_test,y_test)\n",
    "print(f'Test set: Loss: {accuracy[0]}, Accuracy: {accuracy[1]}')"
   ]
  },
  {
   "cell_type": "markdown",
   "metadata": {
    "id": "_5tS8zDu_2mw"
   },
   "source": [
    "### User input test"
   ]
  },
  {
   "cell_type": "code",
   "execution_count": 16,
   "metadata": {
    "colab": {
     "base_uri": "https://localhost:8080/"
    },
    "id": "3Dya03ho_Yhn",
    "outputId": "aceeb95f-748b-4db7-dd60-7e32d25b0dbf"
   },
   "outputs": [
    {
     "name": "stdout",
     "output_type": "stream",
     "text": [
      "Predicted category is : Sports\n"
     ]
    }
   ],
   "source": [
    "text = [\"money football clubs in england can not achieve the champions league not matter how much they try\"]\n",
    "seq = tokenizer.texts_to_sequences(text)\n",
    "padded = pad_sequences(seq, maxlen = max_sequence_length)\n",
    "pred = model.predict(padded)\n",
    "labels = [\"Art\", \"Economy\", \"Sports\"]\n",
    "print(\"Predicted category is :\", labels[np.argmax(pred)])"
   ]
  },
  {
   "cell_type": "code",
   "execution_count": 16,
   "metadata": {
    "id": "FdfpICJDASc8"
   },
   "outputs": [],
   "source": []
  }
 ],
 "metadata": {
  "colab": {
   "collapsed_sections": [],
   "name": "LSTM_model.ipynb",
   "provenance": []
  },
  "kernelspec": {
   "display_name": "Python 3 (ipykernel)",
   "language": "python",
   "name": "python3"
  },
  "language_info": {
   "codemirror_mode": {
    "name": "ipython",
    "version": 3
   },
   "file_extension": ".py",
   "mimetype": "text/x-python",
   "name": "python",
   "nbconvert_exporter": "python",
   "pygments_lexer": "ipython3",
   "version": "3.10.4"
  }
 },
 "nbformat": 4,
 "nbformat_minor": 1
}
