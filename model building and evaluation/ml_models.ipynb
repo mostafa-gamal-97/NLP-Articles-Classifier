{
 "cells": [
  {
   "cell_type": "markdown",
   "id": "cada595f",
   "metadata": {},
   "source": [
    "### Importing Libraries"
   ]
  },
  {
   "cell_type": "code",
   "execution_count": 1,
   "id": "b85782ad",
   "metadata": {},
   "outputs": [
    {
     "name": "stdout",
     "output_type": "stream",
     "text": [
      "Working directory: C:\\Users\\HP\\Desktop\\For CV\\Project 5\\model building and evaluation\n",
      "New working directory C:\\Users\\HP\\Desktop\\For CV\\Project 5\n",
      "\n",
      "C:\\Users\\HP\\Desktop\\For CV\\Project 5\\.ipynb_checkpoints\\articles_scraper-checkpoint.ipynb\n",
      "C:\\Users\\HP\\Desktop\\For CV\\Project 5\\data cleaning\\clean_df.csv\n",
      "C:\\Users\\HP\\Desktop\\For CV\\Project 5\\data cleaning\\data_cleaning.html\n",
      "C:\\Users\\HP\\Desktop\\For CV\\Project 5\\data cleaning\\data_cleaning.ipynb\n",
      "C:\\Users\\HP\\Desktop\\For CV\\Project 5\\data cleaning\\.ipynb_checkpoints\\data_cleaning-checkpoint.ipynb\n",
      "C:\\Users\\HP\\Desktop\\For CV\\Project 5\\data collection\\articles_scraper.html\n",
      "C:\\Users\\HP\\Desktop\\For CV\\Project 5\\data collection\\articles_scraper.ipynb\n",
      "C:\\Users\\HP\\Desktop\\For CV\\Project 5\\data collection\\arts_2.csv\n",
      "C:\\Users\\HP\\Desktop\\For CV\\Project 5\\data collection\\economy_2.csv\n",
      "C:\\Users\\HP\\Desktop\\For CV\\Project 5\\data collection\\sports_2.csv\n",
      "C:\\Users\\HP\\Desktop\\For CV\\Project 5\\data collection\\.ipynb_checkpoints\\articles_scraper-checkpoint.ipynb\n",
      "C:\\Users\\HP\\Desktop\\For CV\\Project 5\\data preprocessing\\final_df_1.csv\n",
      "C:\\Users\\HP\\Desktop\\For CV\\Project 5\\data preprocessing\\final_df_2.csv\n",
      "C:\\Users\\HP\\Desktop\\For CV\\Project 5\\data preprocessing\\text_preprocessing.html\n",
      "C:\\Users\\HP\\Desktop\\For CV\\Project 5\\data preprocessing\\text_preprocessing.ipynb\n",
      "C:\\Users\\HP\\Desktop\\For CV\\Project 5\\data preprocessing\\.ipynb_checkpoints\\text_preprocessing-checkpoint.ipynb\n",
      "C:\\Users\\HP\\Desktop\\For CV\\Project 5\\model building and evaluation\\ml_model.html\n",
      "C:\\Users\\HP\\Desktop\\For CV\\Project 5\\model building and evaluation\\ml_model.ipynb\n",
      "C:\\Users\\HP\\Desktop\\For CV\\Project 5\\model building and evaluation\\.ipynb_checkpoints\\ml_model-checkpoint.ipynb\n"
     ]
    }
   ],
   "source": [
    "import numpy as np  \n",
    "import pandas as pd\n",
    "import os\n",
    "import matplotlib.pyplot as plt\n",
    "import seaborn as sns\n",
    "\n",
    "%matplotlib inline\n",
    "\n",
    "# sklearn\n",
    "# model building\n",
    "from sklearn.model_selection import train_test_split\n",
    "from sklearn.linear_model import LogisticRegression\n",
    "from sklearn.naive_bayes import MultinomialNB\n",
    "# evaluation\n",
    "from sklearn.metrics import accuracy_score, confusion_matrix, classification_report\n",
    "# bag of words\n",
    "from sklearn.feature_extraction.text import CountVectorizer\n",
    "from sklearn.feature_extraction.text import TfidfVectorizer\n",
    "\n",
    "# text preprocessing\n",
    "import nltk\n",
    "import string\n",
    "from nltk.tokenize import word_tokenize\n",
    "from nltk.corpus import stopwords\n",
    "\n",
    "# options\n",
    "# Increase width to see the article_title clearly\n",
    "pd.set_option('display.max_colwidth', None)\n",
    "sns.set(style='whitegrid', font_scale=1.5)\n",
    "\n",
    "\n",
    "# our project path\n",
    "project_path = r\"C:\\Users\\HP\\Desktop\\For CV\\Project 5\"\n",
    "# check working directory\n",
    "print(\"Working directory:\", os.getcwd())\n",
    "# change working directory and list all files in project directory\n",
    "os.chdir(project_path)\n",
    "print(\"New working directory\", project_path)\n",
    "print()\n",
    "for dirname, _, filenames in os.walk(project_path):\n",
    "    for filename in filenames:\n",
    "        print(os.path.join(dirname, filename))"
   ]
  },
  {
   "cell_type": "code",
   "execution_count": 2,
   "id": "5f96167f",
   "metadata": {},
   "outputs": [
    {
     "name": "stdout",
     "output_type": "stream",
     "text": [
      "Index(['Unnamed: 0', 'final_text', 'category'], dtype='object')\n"
     ]
    }
   ],
   "source": [
    "# load our data\n",
    "data = pd.read_csv(r'C:\\Users\\HP\\Desktop\\For CV\\Project 5\\data preprocessing\\final_df_2.csv')\n",
    "print(data.columns)\n",
    "# drop the 'Unnamed: 0' column\n",
    "data.drop(columns = 'Unnamed: 0', inplace=True)"
   ]
  },
  {
   "cell_type": "code",
   "execution_count": 3,
   "id": "a3704e95",
   "metadata": {},
   "outputs": [
    {
     "data": {
      "text/html": [
       "<div>\n",
       "<style scoped>\n",
       "    .dataframe tbody tr th:only-of-type {\n",
       "        vertical-align: middle;\n",
       "    }\n",
       "\n",
       "    .dataframe tbody tr th {\n",
       "        vertical-align: top;\n",
       "    }\n",
       "\n",
       "    .dataframe thead th {\n",
       "        text-align: right;\n",
       "    }\n",
       "</style>\n",
       "<table border=\"1\" class=\"dataframe\">\n",
       "  <thead>\n",
       "    <tr style=\"text-align: right;\">\n",
       "      <th></th>\n",
       "      <th>final_text</th>\n",
       "      <th>category</th>\n",
       "    </tr>\n",
       "  </thead>\n",
       "  <tbody>\n",
       "    <tr>\n",
       "      <th>0</th>\n",
       "      <td>egyptbas paymob rais 50 mln seri b fund round egyptbas paymob financi servic merchant platform rais 50 million seri b fund platform use grow product rang expand egyptian market well new market across middl east africa region</td>\n",
       "      <td>economy</td>\n",
       "    </tr>\n",
       "  </tbody>\n",
       "</table>\n",
       "</div>"
      ],
      "text/plain": [
       "                                                                                                                                                                                                                         final_text  \\\n",
       "0  egyptbas paymob rais 50 mln seri b fund round egyptbas paymob financi servic merchant platform rais 50 million seri b fund platform use grow product rang expand egyptian market well new market across middl east africa region   \n",
       "\n",
       "  category  \n",
       "0  economy  "
      ]
     },
     "metadata": {},
     "output_type": "display_data"
    },
    {
     "name": "stdout",
     "output_type": "stream",
     "text": [
      "\n"
     ]
    },
    {
     "data": {
      "text/html": [
       "<div>\n",
       "<style scoped>\n",
       "    .dataframe tbody tr th:only-of-type {\n",
       "        vertical-align: middle;\n",
       "    }\n",
       "\n",
       "    .dataframe tbody tr th {\n",
       "        vertical-align: top;\n",
       "    }\n",
       "\n",
       "    .dataframe thead th {\n",
       "        text-align: right;\n",
       "    }\n",
       "</style>\n",
       "<table border=\"1\" class=\"dataframe\">\n",
       "  <thead>\n",
       "    <tr style=\"text-align: right;\">\n",
       "      <th></th>\n",
       "      <th>final_text</th>\n",
       "      <th>category</th>\n",
       "    </tr>\n",
       "  </thead>\n",
       "  <tbody>\n",
       "    <tr>\n",
       "      <th>30598</th>\n",
       "      <td>humourless night 12 novemb standup comedi show akram hosni took place el sakia culturewheel theme current educ system materi adapt satir book awel mokar haitham dabbour</td>\n",
       "      <td>art</td>\n",
       "    </tr>\n",
       "  </tbody>\n",
       "</table>\n",
       "</div>"
      ],
      "text/plain": [
       "                                                                                                                                                                     final_text  \\\n",
       "30598  humourless night 12 novemb standup comedi show akram hosni took place el sakia culturewheel theme current educ system materi adapt satir book awel mokar haitham dabbour   \n",
       "\n",
       "      category  \n",
       "30598      art  "
      ]
     },
     "metadata": {},
     "output_type": "display_data"
    }
   ],
   "source": [
    "# take a look at the data\n",
    "display(data.head(1))\n",
    "print()\n",
    "display(data.tail(1))"
   ]
  },
  {
   "cell_type": "code",
   "execution_count": 4,
   "id": "34d50119",
   "metadata": {},
   "outputs": [],
   "source": [
    "# split data to training and testing\n",
    "X_train, X_test, y_train, y_test = train_test_split(data['final_text'], data['category'],\n",
    "                                                    test_size=0.2, random_state=25, shuffle=True)"
   ]
  },
  {
   "cell_type": "code",
   "execution_count": 5,
   "id": "63a70b46",
   "metadata": {},
   "outputs": [
    {
     "name": "stdout",
     "output_type": "stream",
     "text": [
      "train set is 24479 records and test set is 6120\n",
      "27995                                                                daniel barenboim la scala music director renown conductor daniel barenboim take post music director la scala opera hous itali\n",
      "13649                                                                                                                                              lewandowski give bayern win leverkusen stay top\n",
      "26499                      art alert even french music faurã¯â¿â½ã¯â¿â½ requiem alexandria even featur faurã¯â¿â½ã¯â¿â½ requiem work french compos bibliotheca alexandrina orchestra choir conduct\n",
      "3298     egypt host 12th round egyptianrussian joint committe april russian mission visit egypt decemb intraafrican trade fair 2019 hold talk government privat sector actor further cooper invest\n",
      "3475                                                                                                                                                            egypt bours indic show mix perform\n",
      "Name: final_text, dtype: object\n",
      "\n",
      "27995        art\n",
      "13649     sports\n",
      "26499        art\n",
      "3298     economy\n",
      "3475     economy\n",
      "Name: category, dtype: object\n"
     ]
    }
   ],
   "source": [
    "# View train and test shapes\n",
    "print(f\"train set is {X_train.shape[0]} records and test set is {X_test.shape[0]}\")\n",
    "print(X_train.head())\n",
    "print()\n",
    "print(y_train.head())"
   ]
  },
  {
   "cell_type": "markdown",
   "id": "b8c5a7bb",
   "metadata": {},
   "source": [
    "### Tf-Idf Vectorizer"
   ]
  },
  {
   "cell_type": "code",
   "execution_count": 6,
   "id": "1d5d5903",
   "metadata": {},
   "outputs": [],
   "source": [
    "# Create vectorizing object\n",
    "tf_idf = TfidfVectorizer()\n",
    "# fit_transform on training data\n",
    "X_train_vecs = tf_idf.fit_transform(X_train)\n",
    "# transform on testing data\n",
    "X_test_vecs = tf_idf.transform(X_test)"
   ]
  },
  {
   "cell_type": "code",
   "execution_count": 7,
   "id": "471469e9",
   "metadata": {},
   "outputs": [
    {
     "name": "stdout",
     "output_type": "stream",
     "text": [
      "egyptbas paymob rais 50 mln seri b fund round egyptbas paymob financi servic merchant platform rais 50 million seri b fund platform use grow product rang expand egyptian market well new market across middl east africa region\n",
      "\n",
      "  (0, 11479)\t0.13975903596193923\n",
      "  (0, 10807)\t0.12651829045666085\n",
      "  (0, 15373)\t0.12407116457425252\n",
      "  (0, 16259)\t0.16625954405663176\n",
      "  (0, 19989)\t0.11647463107620974\n",
      "  (0, 5740)\t0.18306357675148482\n",
      "  (0, 17305)\t0.14793870284165184\n",
      "  (0, 6741)\t0.24332892433262088\n",
      "  (0, 14505)\t0.22262244745902215\n",
      "  (0, 18139)\t0.5038549433184397\n",
      "  (0, 12266)\t0.2836105324541515\n",
      "  (0, 3781)\t0.47484414243432754\n",
      "  (0, 6279)\t0.4288458399043459\n",
      "\n",
      "(24479, 22585)\n"
     ]
    }
   ],
   "source": [
    "# view vectorizer output\n",
    "# train set\n",
    "print(X_train[0])\n",
    "print()\n",
    "print(X_train_vecs[0])\n",
    "print()\n",
    "print(X_train_vecs.shape)"
   ]
  },
  {
   "cell_type": "code",
   "execution_count": 8,
   "id": "c62412a4",
   "metadata": {},
   "outputs": [
    {
     "name": "stdout",
     "output_type": "stream",
     "text": [
      "egyptâ inflat speed amid war ukrain rise food energi price egyptâ headlin annual inflat rate acceler 149 percent april 121 percent record march 44 percent correspond month 2021 central agenc public mobilis statist capma announc tuesday\n",
      "\n",
      "  (0, 16482)\t0.5753841121820364\n",
      "  (0, 15873)\t0.1752552340919389\n",
      "  (0, 15240)\t0.17323404966131775\n",
      "  (0, 14708)\t0.2391709356240136\n",
      "  (0, 13620)\t0.35786029643780115\n",
      "  (0, 11118)\t0.18512457723189746\n",
      "  (0, 9446)\t0.3874813969232442\n",
      "  (0, 7530)\t0.23225089964598744\n",
      "  (0, 7335)\t0.11347995099294576\n",
      "  (0, 7323)\t0.08519966221245817\n",
      "  (0, 6731)\t0.26807596407162987\n",
      "  (0, 6416)\t0.21910939634316423\n",
      "  (0, 277)\t0.21113552035473962\n",
      "\n",
      "(6120, 22585)\n"
     ]
    }
   ],
   "source": [
    "# view vectorizer output\n",
    "# test set\n",
    "print(X_test[1])\n",
    "print()\n",
    "print(X_test_vecs[1])\n",
    "print()\n",
    "print(X_test_vecs.shape)"
   ]
  },
  {
   "cell_type": "markdown",
   "id": "4a2e839a",
   "metadata": {},
   "source": [
    "Thought it may not be clear, each word has an index in our vocabulary(a set of all unique word in our training data or better call it unique set of features)\n",
    "\n",
    "and\n",
    "\n",
    "each word get a value corresponding to its importance."
   ]
  },
  {
   "cell_type": "code",
   "execution_count": 9,
   "id": "3c944f2e",
   "metadata": {},
   "outputs": [],
   "source": [
    "# # Testing cell\n",
    "# doc_1 = \"This is me trying to show Tf-Idf vectorizer output in dataframe\"\n",
    "# doc_2 = \"Hopefully this will show nicely!\"\n",
    "# doc_3 = \"Last testing sentence I hope\"\n",
    "# df1 = pd.DataFrame({'doc1':[doc_1], 'doc2':[doc_2], 'doc3':[doc_3]})\n",
    "# display(df1)\n",
    "# print(df1.shape)\n",
    "# # convert docs df to vectors\n",
    "# doc_vec = tf_idf.fit_transform(df1.iloc[0])\n",
    "# # create a new dataframe of vectors\n",
    "# df2 = pd.DataFrame(doc_vec.toarray().transpose(),\n",
    "#                   index = tf_idf.get_feature_names_out())\n",
    "# df2.columns = df1.columns\n",
    "# print()\n",
    "# display(df2)"
   ]
  },
  {
   "cell_type": "markdown",
   "id": "ebac0ead",
   "metadata": {},
   "source": [
    "### Model Selection and Evaluation\n",
    "\n",
    "We will work with two models:\n",
    "\n",
    "* Logistic Regression\n",
    "\n",
    "* Naive Bayes"
   ]
  },
  {
   "cell_type": "markdown",
   "id": "e2a80d19",
   "metadata": {},
   "source": [
    "#### Logistic Regression"
   ]
  },
  {
   "cell_type": "code",
   "execution_count": 10,
   "id": "4320cb4a",
   "metadata": {},
   "outputs": [],
   "source": [
    "# we use liblinear solver as it incoprates L1 & L2 regularizations\n",
    "lr_tfidf = LogisticRegression(solver = 'liblinear', C=5, penalty='l2')\n",
    "# fit model\n",
    "lr_tfidf.fit(X_train_vecs, y_train)\n",
    "# predict y for the test set\n",
    "lr_y_predict = lr_tfidf.predict(X_test_vecs)\n",
    "lr_y_prob = lr_tfidf.predict_proba(X_test_vecs)"
   ]
  },
  {
   "cell_type": "code",
   "execution_count": 11,
   "id": "2fdd66c1",
   "metadata": {
    "scrolled": true
   },
   "outputs": [
    {
     "name": "stdout",
     "output_type": "stream",
     "text": [
      "              precision    recall  f1-score   support\n",
      "\n",
      "         art       0.99      0.99      0.99      2118\n",
      "     economy       0.99      0.99      0.99      2004\n",
      "      sports       0.99      0.99      0.99      1998\n",
      "\n",
      "    accuracy                           0.99      6120\n",
      "   macro avg       0.99      0.99      0.99      6120\n",
      "weighted avg       0.99      0.99      0.99      6120\n",
      "\n"
     ]
    }
   ],
   "source": [
    "# Classification report\n",
    "print(classification_report(y_test, lr_y_predict))"
   ]
  },
  {
   "cell_type": "markdown",
   "id": "0e981a2c",
   "metadata": {},
   "source": [
    "**to map 0, 1, 2 to category labels, we need to compare probabilities array vs. predictions array made by our classifier**"
   ]
  },
  {
   "cell_type": "code",
   "execution_count": 12,
   "id": "92ea2ac1",
   "metadata": {},
   "outputs": [
    {
     "name": "stdout",
     "output_type": "stream",
     "text": [
      "['sports' 'economy' 'art']\n",
      "\n",
      "[2 1 0]\n"
     ]
    }
   ],
   "source": [
    "print(lr_y_predict[:3])\n",
    "print()\n",
    "prediction_classes = np.argmax(lr_y_prob, axis=1)\n",
    "print(prediction_classes[:3])"
   ]
  },
  {
   "cell_type": "code",
   "execution_count": 13,
   "id": "aa361572",
   "metadata": {},
   "outputs": [
    {
     "data": {
      "text/plain": [
       "Text(61.5, 0.5, 'Actual')"
      ]
     },
     "execution_count": 13,
     "metadata": {},
     "output_type": "execute_result"
    },
    {
     "data": {
      "image/png": "[encoded data removed]",
      "text/plain": [
       "<Figure size 720x720 with 2 Axes>"
      ]
     },
     "metadata": {},
     "output_type": "display_data"
    }
   ],
   "source": [
    "# Confusion matrix\n",
    "fig, ax = plt.subplots(figsize=(10, 10))\n",
    "cm = confusion_matrix(y_test, lr_y_predict)\n",
    "sns.heatmap(cm, annot=True, fmt='.4g', cmap='Blues', ax = ax)\n",
    "# confusion matrix labels\n",
    "ax.xaxis.set_ticklabels(['art', 'economy', 'sports'])\n",
    "ax.yaxis.set_ticklabels(['art', 'economy', 'sports'])\n",
    "# axis labels\n",
    "plt.xlabel('Predicted')\n",
    "plt.ylabel('Actual')\n"
   ]
  },
  {
   "cell_type": "markdown",
   "id": "8e5a2612",
   "metadata": {},
   "source": [
    "**We need to build a function so that it can receive input article title from user and predict its category.** \n",
    "\n",
    "One thing to know is that user is not bound to enter a text that is preprocessed already, so we need to :\n",
    "\n",
    "* build a preprocess() function to remove punctuation, lower(), remove stopwords.\n",
    "\n",
    "\n",
    "* then, vectorize the string using tf-idf vectorizer.\n",
    "\n",
    "\n",
    "* and finally, make predictions using our model.\n",
    "\n",
    "\n",
    "We will make use of our preprocessing functions we wrote in preprocessing section."
   ]
  },
  {
   "cell_type": "code",
   "execution_count": 14,
   "id": "322b1857",
   "metadata": {},
   "outputs": [],
   "source": [
    "# step1: remove punctuation\n",
    "def remove_punctuation(text):\n",
    "    puncts_free = \"\".join([i for i in text if i not in string.punctuation])\n",
    "    return puncts_free"
   ]
  },
  {
   "cell_type": "code",
   "execution_count": 15,
   "id": "1a6db8cc",
   "metadata": {},
   "outputs": [],
   "source": [
    "# step2: remove stopwords\n",
    "def remove_stopwords(text):\n",
    "    stop_words = stopwords.words('english')\n",
    "    stop_words_free = [i for i in text if i not in stop_words]\n",
    "    return stop_words_free"
   ]
  },
  {
   "cell_type": "code",
   "execution_count": 16,
   "id": "52c1040c",
   "metadata": {},
   "outputs": [],
   "source": [
    "def preprocess(text):\n",
    "    puncts_free = remove_punctuation(text)\n",
    "    sw_free = remove_stopwords(puncts_free)\n",
    "    sw_free_string = \"\".join([i for i in sw_free])\n",
    "    lowered = sw_free_string.lower()\n",
    "    vectorized = tf_idf.transform([lowered])\n",
    "    \n",
    "    return vectorized"
   ]
  },
  {
   "cell_type": "markdown",
   "id": "d8b3e11d",
   "metadata": {},
   "source": [
    "#### User input prediction"
   ]
  },
  {
   "cell_type": "code",
   "execution_count": 17,
   "id": "f01c911f",
   "metadata": {},
   "outputs": [],
   "source": [
    "def input_predict(text):\n",
    "    vectorized = preprocess(text)\n",
    "    prediction = lr_tfidf.predict(vectorized)\n",
    "    print(\"predicted category: \", prediction)"
   ]
  },
  {
   "cell_type": "code",
   "execution_count": 18,
   "id": "be88df30",
   "metadata": {},
   "outputs": [
    {
     "name": "stdout",
     "output_type": "stream",
     "text": [
      "predicted category:  ['economy']\n"
     ]
    }
   ],
   "source": [
    "user_input_test = \"UAE President issues Federal Law to maintain 2022 budget balance\"\n",
    "input_predict(user_input_test)"
   ]
  },
  {
   "cell_type": "markdown",
   "id": "ddab3238",
   "metadata": {},
   "source": [
    "#### Naive Bayes"
   ]
  },
  {
   "cell_type": "code",
   "execution_count": 19,
   "id": "6f2ac9e6",
   "metadata": {},
   "outputs": [],
   "source": [
    "nb_tfidf = MultinomialNB()\n",
    "# fit model\n",
    "nb_tfidf.fit(X_train_vecs, y_train)\n",
    "# predict y for the test set\n",
    "nb_y_predict = nb_tfidf.predict(X_test_vecs)\n",
    "nb_y_prob = nb_tfidf.predict_proba(X_test_vecs)"
   ]
  },
  {
   "cell_type": "code",
   "execution_count": 20,
   "id": "a50c9349",
   "metadata": {
    "scrolled": true
   },
   "outputs": [
    {
     "name": "stdout",
     "output_type": "stream",
     "text": [
      "              precision    recall  f1-score   support\n",
      "\n",
      "         art       0.99      0.99      0.99      2118\n",
      "     economy       0.99      0.99      0.99      2004\n",
      "      sports       0.99      0.99      0.99      1998\n",
      "\n",
      "    accuracy                           0.99      6120\n",
      "   macro avg       0.99      0.99      0.99      6120\n",
      "weighted avg       0.99      0.99      0.99      6120\n",
      "\n"
     ]
    }
   ],
   "source": [
    "# Classification report\n",
    "print(classification_report(y_test, nb_y_predict))"
   ]
  },
  {
   "cell_type": "markdown",
   "id": "308187a5",
   "metadata": {},
   "source": [
    "What we did for LogisticRegression can be done for NaiveBayes, but something is fishy here with the results."
   ]
  },
  {
   "cell_type": "markdown",
   "id": "da322b09",
   "metadata": {},
   "source": [
    "### Final Thoughts\n",
    "\n",
    "We did a pretty good job using both ml classifiers.\n",
    "\n",
    "**In the next notebook, we will try text classification using LSTM.**"
   ]
  },
  {
   "cell_type": "code",
   "execution_count": null,
   "id": "72e125ac",
   "metadata": {},
   "outputs": [],
   "source": []
  }
 ],
 "metadata": {
  "kernelspec": {
   "display_name": "Python 3 (ipykernel)",
   "language": "python",
   "name": "python3"
  },
  "language_info": {
   "codemirror_mode": {
    "name": "ipython",
    "version": 3
   },
   "file_extension": ".py",
   "mimetype": "text/x-python",
   "name": "python",
   "nbconvert_exporter": "python",
   "pygments_lexer": "ipython3",
   "version": "3.10.4"
  }
 },
 "nbformat": 4,
 "nbformat_minor": 5
}
