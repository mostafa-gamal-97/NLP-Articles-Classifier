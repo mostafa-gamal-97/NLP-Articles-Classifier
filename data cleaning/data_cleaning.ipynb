{
 "cells": [
  {
   "cell_type": "markdown",
   "id": "8fab7c14",
   "metadata": {},
   "source": [
    "# Data Cleaning"
   ]
  },
  {
   "cell_type": "code",
   "execution_count": 5,
   "id": "d296d700",
   "metadata": {},
   "outputs": [
    {
     "name": "stdout",
     "output_type": "stream",
     "text": [
      "C:\\Users\\HP\\Desktop\\For CV\\Project 5\n",
      "C:\\Users\\HP\\Desktop\\For CV\\Project 5\\.ipynb_checkpoints\\articles_scraper-checkpoint.ipynb\n",
      "C:\\Users\\HP\\Desktop\\For CV\\Project 5\\data cleaning\\clean_df.csv\n",
      "C:\\Users\\HP\\Desktop\\For CV\\Project 5\\data cleaning\\data_cleaning.html\n",
      "C:\\Users\\HP\\Desktop\\For CV\\Project 5\\data cleaning\\data_cleaning.ipynb\n",
      "C:\\Users\\HP\\Desktop\\For CV\\Project 5\\data cleaning\\.ipynb_checkpoints\\data_cleaning-checkpoint.ipynb\n",
      "C:\\Users\\HP\\Desktop\\For CV\\Project 5\\data collection\\articles_scraper.html\n",
      "C:\\Users\\HP\\Desktop\\For CV\\Project 5\\data collection\\articles_scraper.ipynb\n",
      "C:\\Users\\HP\\Desktop\\For CV\\Project 5\\data collection\\arts_2.csv\n",
      "C:\\Users\\HP\\Desktop\\For CV\\Project 5\\data collection\\arts_categories.txt\n",
      "C:\\Users\\HP\\Desktop\\For CV\\Project 5\\data collection\\economy_2.csv\n",
      "C:\\Users\\HP\\Desktop\\For CV\\Project 5\\data collection\\sports_2.csv\n",
      "C:\\Users\\HP\\Desktop\\For CV\\Project 5\\data collection\\.ipynb_checkpoints\\articles_scraper-checkpoint.ipynb\n",
      "C:\\Users\\HP\\Desktop\\For CV\\Project 5\\preprocessing\\text_preprocessing.ipynb\n",
      "C:\\Users\\HP\\Desktop\\For CV\\Project 5\\preprocessing\\.ipynb_checkpoints\\text_preprocessing-checkpoint.ipynb\n"
     ]
    }
   ],
   "source": [
    "import pandas as pd\n",
    "import os \n",
    "\n",
    "pd.set_option('max_colwidth', None)\n",
    "# check current working directory\n",
    "print(os.getcwd())\n",
    "# change current working directory\n",
    "os.chdir(r\"C:\\Users\\HP\\Desktop\\For CV\\Project 5\")\n",
    "# Lista all folders and files in directory\n",
    "for dirname, _, filenames in os.walk(r\"C:\\Users\\HP\\Desktop\\For CV\\Project 5\"):\n",
    "    for filename in filenames:\n",
    "        print(os.path.join(dirname, filename))"
   ]
  },
  {
   "cell_type": "code",
   "execution_count": 6,
   "id": "fa944ad8",
   "metadata": {},
   "outputs": [],
   "source": [
    "# step1: read the 3 csv files\n",
    "# step2: merge them into one dataframe\n",
    "# step3: remove spaces and check for duplicates\n",
    "# step4: export them to a final csv file.\n",
    "\n",
    "economy = pd.read_csv(r\"C:\\Users\\HP\\Desktop\\For CV\\Project 5\\data collection\\economy_2.csv\")\n",
    "sports = pd.read_csv(r\"C:\\Users\\HP\\Desktop\\For CV\\Project 5\\data collection\\sports_2.csv\")\n",
    "arts = pd.read_csv(r\"C:\\Users\\HP\\Desktop\\For CV\\Project 5\\data collection\\arts_2.csv\", encoding = 'cp1252')"
   ]
  },
  {
   "cell_type": "markdown",
   "id": "a4cf4431",
   "metadata": {},
   "source": [
    "I added this part: encoding = 'cp1252' because trying to read arts_2.csv, I had this error:\n",
    "[UnicodeDecodeError](https://stackoverflow.com/questions/45529507/unicodedecodeerror-utf-8-codec-cant-decode-byte-0x96-in-position-35-invalid)"
   ]
  },
  {
   "cell_type": "code",
   "execution_count": 7,
   "id": "c4c1badb",
   "metadata": {},
   "outputs": [
    {
     "data": {
      "text/html": [
       "<div>\n",
       "<style scoped>\n",
       "    .dataframe tbody tr th:only-of-type {\n",
       "        vertical-align: middle;\n",
       "    }\n",
       "\n",
       "    .dataframe tbody tr th {\n",
       "        vertical-align: top;\n",
       "    }\n",
       "\n",
       "    .dataframe thead th {\n",
       "        text-align: right;\n",
       "    }\n",
       "</style>\n",
       "<table border=\"1\" class=\"dataframe\">\n",
       "  <thead>\n",
       "    <tr style=\"text-align: right;\">\n",
       "      <th></th>\n",
       "      <th>Unnamed: 0</th>\n",
       "      <th>article_title</th>\n",
       "      <th>category</th>\n",
       "    </tr>\n",
       "  </thead>\n",
       "  <tbody>\n",
       "    <tr>\n",
       "      <th>0</th>\n",
       "      <td>0</td>\n",
       "      <td>Egypt-based Paymob raises $50 mln in Series B funding round \\n\\n\\n\\nEgypt-based Paymob, a financial services for merchants platform, raised $50 million in Series B funding, which the platform will use to grow its product range, expanding in the Egyptian market as well as into new markets across the Middle East and Africa region.</td>\n",
       "      <td>economy</td>\n",
       "    </tr>\n",
       "    <tr>\n",
       "      <th>1</th>\n",
       "      <td>1</td>\n",
       "      <td>Egypt’s inflation speeds up amid war in Ukraine, rising food and energy prices\\n\\n\\n\\nEgypt’s headline annual inflation rate accelerated to 14.9 percent in April, up from the 12.1 percent recorded in March and 4.4 percent in the corresponding month in 2021, the Central Agency for Public Mobilisation and Statistics (CAPMAS) announced on Tuesday.</td>\n",
       "      <td>economy</td>\n",
       "    </tr>\n",
       "    <tr>\n",
       "      <th>2</th>\n",
       "      <td>2</td>\n",
       "      <td>EBRD upgrades Egypt’s GDP growth forecasts in FY2021/22 by 0.8%\\n\\n\\n\\nThe European Bank for Reconstruction and Development (EBRD) raised its projections for Egypt’s GDP growth for the current FY2021/22 to 5.7 percent — which ends in June — up from the 4.9 percent it projected in November before slowing down to 5 percent in FY2022/23 — which begins in July — according to the Regional Economic Prospects Report the bank released on Tuesday.</td>\n",
       "      <td>economy</td>\n",
       "    </tr>\n",
       "    <tr>\n",
       "      <th>3</th>\n",
       "      <td>3</td>\n",
       "      <td>Gold prices down in Egypt amid uncertain economic outlook, expected dollar price hike\\n\\n\\n\\nGold prices in the Egyptian market saw a fluctuation on Monday amid the uncertainty cast by an expected rise in the US dollar price and inflation caused by the Russian war in Ukraine, as well as rising food and energy prices.</td>\n",
       "      <td>economy</td>\n",
       "    </tr>\n",
       "    <tr>\n",
       "      <th>4</th>\n",
       "      <td>4</td>\n",
       "      <td>Egypt, EU ink €138 mln development finance deals covering several sectors\\n\\n\\n\\nEgypt and the European Union (EU) delegation in Egypt signed on Monday a number of development finance agreements worth €138 million covering healthcare, administrative reform, the environment, rural and social development, and enhancing governance.</td>\n",
       "      <td>economy</td>\n",
       "    </tr>\n",
       "  </tbody>\n",
       "</table>\n",
       "</div>"
      ],
      "text/plain": [
       "   Unnamed: 0  \\\n",
       "0           0   \n",
       "1           1   \n",
       "2           2   \n",
       "3           3   \n",
       "4           4   \n",
       "\n",
       "                                                                                                                                                                                                                                                                                                                                                                                                                                                article_title  \\\n",
       "0                                                                                                                  Egypt-based Paymob raises $50 mln in Series B funding round \\n\\n\\n\\nEgypt-based Paymob, a financial services for merchants platform, raised $50 million in Series B funding, which the platform will use to grow its product range, expanding in the Egyptian market as well as into new markets across the Middle East and Africa region.   \n",
       "1                                                                                                  Egypt’s inflation speeds up amid war in Ukraine, rising food and energy prices\\n\\n\\n\\nEgypt’s headline annual inflation rate accelerated to 14.9 percent in April, up from the 12.1 percent recorded in March and 4.4 percent in the corresponding month in 2021, the Central Agency for Public Mobilisation and Statistics (CAPMAS) announced on Tuesday.   \n",
       "2  EBRD upgrades Egypt’s GDP growth forecasts in FY2021/22 by 0.8%\\n\\n\\n\\nThe European Bank for Reconstruction and Development (EBRD) raised its projections for Egypt’s GDP growth for the current FY2021/22 to 5.7 percent — which ends in June — up from the 4.9 percent it projected in November before slowing down to 5 percent in FY2022/23 — which begins in July — according to the Regional Economic Prospects Report the bank released on Tuesday.   \n",
       "3                                                                                                                              Gold prices down in Egypt amid uncertain economic outlook, expected dollar price hike\\n\\n\\n\\nGold prices in the Egyptian market saw a fluctuation on Monday amid the uncertainty cast by an expected rise in the US dollar price and inflation caused by the Russian war in Ukraine, as well as rising food and energy prices.   \n",
       "4                                                                                                                  Egypt, EU ink €138 mln development finance deals covering several sectors\\n\\n\\n\\nEgypt and the European Union (EU) delegation in Egypt signed on Monday a number of development finance agreements worth €138 million covering healthcare, administrative reform, the environment, rural and social development, and enhancing governance.   \n",
       "\n",
       "  category  \n",
       "0  economy  \n",
       "1  economy  \n",
       "2  economy  \n",
       "3  economy  \n",
       "4  economy  "
      ]
     },
     "metadata": {},
     "output_type": "display_data"
    },
    {
     "name": "stdout",
     "output_type": "stream",
     "text": [
      "\n"
     ]
    },
    {
     "data": {
      "text/html": [
       "<div>\n",
       "<style scoped>\n",
       "    .dataframe tbody tr th:only-of-type {\n",
       "        vertical-align: middle;\n",
       "    }\n",
       "\n",
       "    .dataframe tbody tr th {\n",
       "        vertical-align: top;\n",
       "    }\n",
       "\n",
       "    .dataframe thead th {\n",
       "        text-align: right;\n",
       "    }\n",
       "</style>\n",
       "<table border=\"1\" class=\"dataframe\">\n",
       "  <thead>\n",
       "    <tr style=\"text-align: right;\">\n",
       "      <th></th>\n",
       "      <th>Unnamed: 0</th>\n",
       "      <th>article_title</th>\n",
       "      <th>category</th>\n",
       "    </tr>\n",
       "  </thead>\n",
       "  <tbody>\n",
       "    <tr>\n",
       "      <th>10640</th>\n",
       "      <td>10640</td>\n",
       "      <td>Chekhov's Three Sisters visit AUC\\n\\n\\n\\nAnton Chekhovï¿½ï¿½ï¿½s Three Sisters directed by Frank Bradley will be performed by AUC students in De</td>\n",
       "      <td>art</td>\n",
       "    </tr>\n",
       "    <tr>\n",
       "      <th>10641</th>\n",
       "      <td>10641</td>\n",
       "      <td>Egyptian critic wins Polish cultural award\\n\\n\\n\\nProfessor Hanaa Abdel Fattah recognised by Poland's Ministry of Foreign Affairs</td>\n",
       "      <td>art</td>\n",
       "    </tr>\n",
       "    <tr>\n",
       "      <th>10642</th>\n",
       "      <td>10642</td>\n",
       "      <td>Examining Acting Myths and Misconceptions\\n\\n\\n\\nLecture by theatre director and professor Mahmoud El-Lozy at AUC</td>\n",
       "      <td>art</td>\n",
       "    </tr>\n",
       "    <tr>\n",
       "      <th>10643</th>\n",
       "      <td>10643</td>\n",
       "      <td>Julius Caesar with a twist\\n\\n\\n\\nAl Hayat Theatre Ensemble adds a twist to the Shakespearean play Julius Caesar, winning 3rd place at the El Sawy Culturewheel 8th Theatre Festival.</td>\n",
       "      <td>art</td>\n",
       "    </tr>\n",
       "    <tr>\n",
       "      <th>10644</th>\n",
       "      <td>10644</td>\n",
       "      <td>A Humourless Night\\n\\n\\n\\nOn 12 November a stand-up comedy show with Akram Hosny took place at El Sakia culturewheel, with its theme - the current education system. The material was adapted from the satirical book Awel Mokarer by Haitham Dabbour.</td>\n",
       "      <td>art</td>\n",
       "    </tr>\n",
       "  </tbody>\n",
       "</table>\n",
       "</div>"
      ],
      "text/plain": [
       "       Unnamed: 0  \\\n",
       "10640       10640   \n",
       "10641       10641   \n",
       "10642       10642   \n",
       "10643       10643   \n",
       "10644       10644   \n",
       "\n",
       "                                                                                                                                                                                                                                                article_title  \\\n",
       "10640                                                                                                        Chekhov's Three Sisters visit AUC\\n\\n\\n\\nAnton Chekhovï¿½ï¿½ï¿½s Three Sisters directed by Frank Bradley will be performed by AUC students in De   \n",
       "10641                                                                                                                       Egyptian critic wins Polish cultural award\\n\\n\\n\\nProfessor Hanaa Abdel Fattah recognised by Poland's Ministry of Foreign Affairs   \n",
       "10642                                                                                                                                       Examining Acting Myths and Misconceptions\\n\\n\\n\\nLecture by theatre director and professor Mahmoud El-Lozy at AUC   \n",
       "10643                                                                   Julius Caesar with a twist\\n\\n\\n\\nAl Hayat Theatre Ensemble adds a twist to the Shakespearean play Julius Caesar, winning 3rd place at the El Sawy Culturewheel 8th Theatre Festival.   \n",
       "10644  A Humourless Night\\n\\n\\n\\nOn 12 November a stand-up comedy show with Akram Hosny took place at El Sakia culturewheel, with its theme - the current education system. The material was adapted from the satirical book Awel Mokarer by Haitham Dabbour.   \n",
       "\n",
       "      category  \n",
       "10640      art  \n",
       "10641      art  \n",
       "10642      art  \n",
       "10643      art  \n",
       "10644      art  "
      ]
     },
     "metadata": {},
     "output_type": "display_data"
    }
   ],
   "source": [
    "df = pd.concat([economy, sports, arts], axis ='rows')\n",
    "display(df.head())\n",
    "print()\n",
    "display(df.tail())"
   ]
  },
  {
   "cell_type": "code",
   "execution_count": 8,
   "id": "b0584e33",
   "metadata": {},
   "outputs": [
    {
     "name": "stdout",
     "output_type": "stream",
     "text": [
      "Index(['Unnamed: 0', 'article_title', 'category'], dtype='object')\n"
     ]
    }
   ],
   "source": [
    "# check dataframe column\n",
    "print(df.columns)\n",
    "# step5: drop the 'Unnamed: 0' column\n",
    "df.drop(columns= 'Unnamed: 0', inplace=True)\n",
    "# stpe6: reset the index, and don't insert index into dataframe columns\n",
    "df = df.reset_index(drop=True)\n",
    "# stpe7: Just a reassurance of removing leading and trailing spaces\n",
    "df['article_title'] = df['article_title'].str.strip()"
   ]
  },
  {
   "cell_type": "code",
   "execution_count": 9,
   "id": "15d06009",
   "metadata": {},
   "outputs": [],
   "source": [
    "df = df[['article_title','category']]"
   ]
  },
  {
   "cell_type": "code",
   "execution_count": 10,
   "id": "062f3868",
   "metadata": {},
   "outputs": [
    {
     "name": "stdout",
     "output_type": "stream",
     "text": [
      "46\n"
     ]
    }
   ],
   "source": [
    "# step8: check for duplicates\n",
    "print(df.duplicated().sum())"
   ]
  },
  {
   "cell_type": "code",
   "execution_count": 11,
   "id": "606994d3",
   "metadata": {},
   "outputs": [],
   "source": [
    "# drop duplicates\n",
    "df.drop_duplicates(inplace=True)"
   ]
  },
  {
   "cell_type": "code",
   "execution_count": 12,
   "id": "258917f1",
   "metadata": {},
   "outputs": [],
   "source": [
    "# finally: remove \\n from article titles\n",
    "df = df.replace('\\n',' ', regex=True)"
   ]
  },
  {
   "cell_type": "code",
   "execution_count": 13,
   "id": "bdd401bf",
   "metadata": {},
   "outputs": [
    {
     "data": {
      "text/html": [
       "<div>\n",
       "<style scoped>\n",
       "    .dataframe tbody tr th:only-of-type {\n",
       "        vertical-align: middle;\n",
       "    }\n",
       "\n",
       "    .dataframe tbody tr th {\n",
       "        vertical-align: top;\n",
       "    }\n",
       "\n",
       "    .dataframe thead th {\n",
       "        text-align: right;\n",
       "    }\n",
       "</style>\n",
       "<table border=\"1\" class=\"dataframe\">\n",
       "  <thead>\n",
       "    <tr style=\"text-align: right;\">\n",
       "      <th></th>\n",
       "      <th>article_title</th>\n",
       "      <th>category</th>\n",
       "    </tr>\n",
       "  </thead>\n",
       "  <tbody>\n",
       "    <tr>\n",
       "      <th>0</th>\n",
       "      <td>Egypt-based Paymob raises $50 mln in Series B funding round     Egypt-based Paymob, a financial services for merchants platform, raised $50 million in Series B funding, which the platform will use to grow its product range, expanding in the Egyptian market as well as into new markets across the Middle East and Africa region.</td>\n",
       "      <td>economy</td>\n",
       "    </tr>\n",
       "    <tr>\n",
       "      <th>1</th>\n",
       "      <td>Egypt’s inflation speeds up amid war in Ukraine, rising food and energy prices    Egypt’s headline annual inflation rate accelerated to 14.9 percent in April, up from the 12.1 percent recorded in March and 4.4 percent in the corresponding month in 2021, the Central Agency for Public Mobilisation and Statistics (CAPMAS) announced on Tuesday.</td>\n",
       "      <td>economy</td>\n",
       "    </tr>\n",
       "    <tr>\n",
       "      <th>2</th>\n",
       "      <td>EBRD upgrades Egypt’s GDP growth forecasts in FY2021/22 by 0.8%    The European Bank for Reconstruction and Development (EBRD) raised its projections for Egypt’s GDP growth for the current FY2021/22 to 5.7 percent — which ends in June — up from the 4.9 percent it projected in November before slowing down to 5 percent in FY2022/23 — which begins in July — according to the Regional Economic Prospects Report the bank released on Tuesday.</td>\n",
       "      <td>economy</td>\n",
       "    </tr>\n",
       "    <tr>\n",
       "      <th>3</th>\n",
       "      <td>Gold prices down in Egypt amid uncertain economic outlook, expected dollar price hike    Gold prices in the Egyptian market saw a fluctuation on Monday amid the uncertainty cast by an expected rise in the US dollar price and inflation caused by the Russian war in Ukraine, as well as rising food and energy prices.</td>\n",
       "      <td>economy</td>\n",
       "    </tr>\n",
       "    <tr>\n",
       "      <th>4</th>\n",
       "      <td>Egypt, EU ink €138 mln development finance deals covering several sectors    Egypt and the European Union (EU) delegation in Egypt signed on Monday a number of development finance agreements worth €138 million covering healthcare, administrative reform, the environment, rural and social development, and enhancing governance.</td>\n",
       "      <td>economy</td>\n",
       "    </tr>\n",
       "  </tbody>\n",
       "</table>\n",
       "</div>"
      ],
      "text/plain": [
       "                                                                                                                                                                                                                                                                                                                                                                                                                                            article_title  \\\n",
       "0                                                                                                                  Egypt-based Paymob raises $50 mln in Series B funding round     Egypt-based Paymob, a financial services for merchants platform, raised $50 million in Series B funding, which the platform will use to grow its product range, expanding in the Egyptian market as well as into new markets across the Middle East and Africa region.   \n",
       "1                                                                                                  Egypt’s inflation speeds up amid war in Ukraine, rising food and energy prices    Egypt’s headline annual inflation rate accelerated to 14.9 percent in April, up from the 12.1 percent recorded in March and 4.4 percent in the corresponding month in 2021, the Central Agency for Public Mobilisation and Statistics (CAPMAS) announced on Tuesday.   \n",
       "2  EBRD upgrades Egypt’s GDP growth forecasts in FY2021/22 by 0.8%    The European Bank for Reconstruction and Development (EBRD) raised its projections for Egypt’s GDP growth for the current FY2021/22 to 5.7 percent — which ends in June — up from the 4.9 percent it projected in November before slowing down to 5 percent in FY2022/23 — which begins in July — according to the Regional Economic Prospects Report the bank released on Tuesday.   \n",
       "3                                                                                                                              Gold prices down in Egypt amid uncertain economic outlook, expected dollar price hike    Gold prices in the Egyptian market saw a fluctuation on Monday amid the uncertainty cast by an expected rise in the US dollar price and inflation caused by the Russian war in Ukraine, as well as rising food and energy prices.   \n",
       "4                                                                                                                  Egypt, EU ink €138 mln development finance deals covering several sectors    Egypt and the European Union (EU) delegation in Egypt signed on Monday a number of development finance agreements worth €138 million covering healthcare, administrative reform, the environment, rural and social development, and enhancing governance.   \n",
       "\n",
       "  category  \n",
       "0  economy  \n",
       "1  economy  \n",
       "2  economy  \n",
       "3  economy  \n",
       "4  economy  "
      ]
     },
     "execution_count": 13,
     "metadata": {},
     "output_type": "execute_result"
    }
   ],
   "source": [
    "# See cleaned dataframe\n",
    "df.head()"
   ]
  },
  {
   "cell_type": "code",
   "execution_count": 11,
   "id": "b50fb03c",
   "metadata": {},
   "outputs": [],
   "source": [
    "df.to_csv(r\"C:\\Users\\HP\\Desktop\\For CV\\Project 5\\data cleaning\\clean_df.csv\")"
   ]
  },
  {
   "cell_type": "code",
   "execution_count": null,
   "id": "11a75f82",
   "metadata": {},
   "outputs": [],
   "source": []
  }
 ],
 "metadata": {
  "kernelspec": {
   "display_name": "Python 3 (ipykernel)",
   "language": "python",
   "name": "python3"
  },
  "language_info": {
   "codemirror_mode": {
    "name": "ipython",
    "version": 3
   },
   "file_extension": ".py",
   "mimetype": "text/x-python",
   "name": "python",
   "nbconvert_exporter": "python",
   "pygments_lexer": "ipython3",
   "version": "3.10.4"
  }
 },
 "nbformat": 4,
 "nbformat_minor": 5
}
